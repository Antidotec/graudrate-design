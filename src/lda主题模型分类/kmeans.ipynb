{
 "cells": [
  {
   "cell_type": "code",
   "execution_count": 6,
   "id": "9bf56e2e",
   "metadata": {},
   "outputs": [
    {
     "name": "stdout",
     "output_type": "stream",
     "text": [
      "10000\n"
     ]
    },
    {
     "data": {
      "application/vnd.jupyter.widget-view+json": {
       "model_id": "573dbb2db9d14b32979d9d43ed9033a7",
       "version_major": 2,
       "version_minor": 0
      },
      "text/plain": [
       "  0%|          | 0/10000 [00:00<?, ?it/s]"
      ]
     },
     "metadata": {},
     "output_type": "display_data"
    },
    {
     "name": "stderr",
     "output_type": "stream",
     "text": [
      "2022-04-23 14:37:55,712 : INFO : collecting all words and their counts\n",
      "2022-04-23 14:37:55,713 : INFO : PROGRESS: at sentence #0, processed 0 words and 0 word types\n",
      "2022-04-23 14:37:56,895 : INFO : collected 328402 word types from a corpus of 854528 words (unigram + bigrams) and 10000 sentences\n",
      "2022-04-23 14:37:56,896 : INFO : using 328402 counts as vocab in Phrases<0 vocab, min_count=20, threshold=10.0, max_vocab_size=40000000>\n"
     ]
    },
    {
     "data": {
      "application/vnd.jupyter.widget-view+json": {
       "model_id": "6c8cd90ffc5548ae9f0cde8f2d41bfeb",
       "version_major": 2,
       "version_minor": 0
      },
      "text/plain": [
       "  0%|          | 0/10000 [00:00<?, ?it/s]"
      ]
     },
     "metadata": {},
     "output_type": "display_data"
    }
   ],
   "source": [
    "#构建输出\n",
    "import logging\n",
    "import warnings\n",
    "warnings.filterwarnings(\"ignore\", category=DeprecationWarning) \n",
    "\n",
    "logging.basicConfig(format='%(asctime)s : %(levelname)s : %(message)s', level=logging.INFO)\n",
    "\n",
    "#构建corpus\n",
    "import os\n",
    "path =\"D:/毕业设计/abstract_data/\"  # 待处理的数据\n",
    "\n",
    "fileList = os.listdir(path)\n",
    "docs = [] #文档集合\n",
    "for file in fileList:\n",
    "    filePath = os.path.join(path, file)\n",
    "    f = open(filePath, encoding='utf-8')\n",
    "    content = f.read()\n",
    "    f.close()\n",
    "    docs.append(content)\n",
    "docs = docs[:10000]\n",
    "print(len(docs))\n",
    "\n",
    "# Tokenize the documents.\n",
    "from nltk.tokenize import RegexpTokenizer\n",
    "from tqdm.notebook import tqdm\n",
    "# Split the documents into tokens.\n",
    "tokenizer = RegexpTokenizer(r'\\w+')\n",
    "for idx in tqdm(range(len(docs))):\n",
    "    docs[idx] = docs[idx].lower()  # Convert to lowercase.\n",
    "    docs[idx] = tokenizer.tokenize(docs[idx])  # Split into words.\n",
    "\n",
    "# Remove numbers, but not words that contain numbers.\n",
    "docs = [[token for token in doc if not token.isnumeric()] for doc in docs]\n",
    "\n",
    "# Remove words that are only one character.\n",
    "docs = [[token for token in doc if len(token) > 1] for doc in docs]\n",
    "\n",
    "\n",
    "# Lemmatize the documents.\n",
    "from nltk.stem.wordnet import WordNetLemmatizer\n",
    "\n",
    "lemmatizer = WordNetLemmatizer()\n",
    "docs = [[lemmatizer.lemmatize(token) for token in doc] for doc in docs]\n",
    "\n",
    "\n",
    "# Compute bigrams.\n",
    "from gensim.models import Phrases\n",
    "\n",
    "# Add bigrams and trigrams to docs (only ones that appear 20 times or more).\n",
    "bigram = Phrases(docs, min_count=20)\n",
    "for idx in tqdm(range(len(docs))):\n",
    "    for token in bigram[docs[idx]]:\n",
    "        if '_' in token:\n",
    "            # Token is a bigram, add to document.\n",
    "            docs[idx].append(token)\n",
    "corpus = [\" \".join(doc) for doc in docs]"
   ]
  },
  {
   "cell_type": "code",
   "execution_count": 10,
   "id": "a0980cad",
   "metadata": {},
   "outputs": [
    {
     "name": "stdout",
     "output_type": "stream",
     "text": [
      "(10000, 1642)\n"
     ]
    }
   ],
   "source": [
    "from sklearn.feature_extraction.text import TfidfTransformer\n",
    "from sklearn.feature_extraction.text import TfidfVectorizer\n",
    "\n",
    "vectorizer_tfidf = TfidfVectorizer(use_idf=True) # 构建tf-idf向量\n",
    "X_tfidf = vectorizer_tfidf.fit_transform(corpus)\n",
    "\n",
    "print(X_tfidf.shape)"
   ]
  },
  {
   "cell_type": "code",
   "execution_count": 12,
   "id": "cefe3596",
   "metadata": {},
   "outputs": [
    {
     "name": "stdout",
     "output_type": "stream",
     "text": [
      "Performing dimensionality reduction using LSA\n",
      "Explained variance of the SVD step: 68%\n",
      "(10000, 100)\n"
     ]
    }
   ],
   "source": [
    "# 进行SVD降维处理\n",
    "from sklearn.decomposition import TruncatedSVD\n",
    "from sklearn.preprocessing import Normalizer\n",
    "from sklearn.pipeline import make_pipeline\n",
    "\n",
    "print(\"Performing dimensionality reduction using LSA\")\n",
    "# Vectorizer results are normalized, which makes KMeans behave as\n",
    "# spherical k-means for better results. Since LSA/SVD results are\n",
    "# not normalized, we have to redo the normalization.\n",
    "svd = TruncatedSVD(5000)\n",
    "normalizer = Normalizer(copy=False)\n",
    "lsa = make_pipeline(svd, normalizer)\n",
    "\n",
    "X_tfidf_lsa = lsa.fit_transform(X_tfidf)\n",
    "\n",
    "explained_variance = svd.explained_variance_ratio_.sum()\n",
    "print(\"Explained variance of the SVD step: {}%\".format(\n",
    "    int(explained_variance * 100)))\n",
    "\n",
    "print(X_tfidf_lsa.shape)"
   ]
  },
  {
   "cell_type": "code",
   "execution_count": 14,
   "id": "ebd39617",
   "metadata": {},
   "outputs": [
    {
     "name": "stderr",
     "output_type": "stream",
     "text": [
      "D:\\Anaconda3\\lib\\site-packages\\sklearn\\cluster\\_kmeans.py:1044: UserWarning: MiniBatchKMeans is known to have a memory leak on Windows with MKL, when there are less chunks than available threads. You can prevent it by setting batch_size >= 2048 or by setting the environment variable OMP_NUM_THREADS=4\n",
      "  \"MiniBatchKMeans is known to have a memory leak on \"\n"
     ]
    }
   ],
   "source": [
    "from sklearn.cluster import KMeans\n",
    "from sklearn.cluster import MiniBatchKMeans\n",
    "# 降维，minbatch? 2*2 = 4种\n",
    "minikm_X_tfidf_lsa = MiniBatchKMeans(n_clusters=10, init='k-means++', n_init=1, init_size=1000, batch_size=1000, verbose=False)\n",
    "minikm_X_tfidf_lsa.fit(X_tfidf_lsa)\n",
    "\n",
    "minikm_X_tfidf = MiniBatchKMeans(n_clusters=10, init='k-means++', n_init=1, init_size=1000, batch_size=1000, verbose=False)\n",
    "minikm_X_tfidf.fit(X_tfidf)\n",
    "\n",
    "km = KMeans(n_clusters=10, init='k-means++', max_iter=100, n_init=1, verbose=False)\n",
    "km_X_tfidf_lsa = km.fit(X_tfidf_lsa)\n",
    "\n",
    "km = KMeans(n_clusters=10, init='k-means++', max_iter=100, n_init=1, verbose=False)\n",
    "km_X_tfidf = km.fit(X_tfidf)"
   ]
  },
  {
   "cell_type": "code",
   "execution_count": 30,
   "id": "0b4d7398",
   "metadata": {},
   "outputs": [
    {
     "name": "stdout",
     "output_type": "stream",
     "text": [
      "Silhouette Coefficient: 0.347\n"
     ]
    },
    {
     "ename": "AttributeError",
     "evalue": "'list' object has no attribute 'toarray'",
     "output_type": "error",
     "traceback": [
      "\u001b[1;31m---------------------------------------------------------------------------\u001b[0m",
      "\u001b[1;31mAttributeError\u001b[0m                            Traceback (most recent call last)",
      "\u001b[1;32m~\\AppData\\Local\\Temp/ipykernel_12284/1720821191.py\u001b[0m in \u001b[0;36m<module>\u001b[1;34m\u001b[0m\n\u001b[0;32m     10\u001b[0m           % metrics.silhouette_score(X, method.labels_, metric='euclidean'))\n\u001b[0;32m     11\u001b[0m     print(\"Calinski-Harabaz: %0.3f\"\n\u001b[1;32m---> 12\u001b[1;33m           % metrics.calinski_harabasz_score(X.tolist().toarray(), method.labels_))\n\u001b[0m\u001b[0;32m     13\u001b[0m     print(\" Davies-Bouldin Index: %0.3f\"\n\u001b[0;32m     14\u001b[0m           % metrics.davies_bouldin_score(X, method.labels_))\n",
      "\u001b[1;31mAttributeError\u001b[0m: 'list' object has no attribute 'toarray'"
     ]
    }
   ],
   "source": [
    "#这里要重新处理一下，没有降维过后的数据是稀疏的，无法进行后两个指标的评价\n",
    "from sklearn import metrics\n",
    "\n",
    "\n",
    "Xs = [X_tfidf_lsa,X_tfidf, X_tfidf_lsa, X_tfidf]\n",
    "\n",
    "for index, method in enumerate([minikm_X_tfidf_lsa, minikm_X_tfidf, km_X_tfidf_lsa, km_X_tfidf]):\n",
    "    X = Xs[index]\n",
    "    print(\"Silhouette Coefficient: %0.3f\"\n",
    "          % metrics.silhouette_score(X, method.labels_, metric='euclidean'))\n",
    "    print(\"Calinski-Harabaz: %0.3f\"\n",
    "          % metrics.calinski_harabasz_score(X, method.labels_))\n",
    "    print(\" Davies-Bouldin Index: %0.3f\"\n",
    "          % metrics.davies_bouldin_score(X, method.labels_))\n",
    "\n",
    "   \n",
    "    print(\"----------------------------------------------------------------\")\n"
   ]
  },
  {
   "cell_type": "code",
   "execution_count": 31,
   "id": "e54f53a7",
   "metadata": {},
   "outputs": [
    {
     "name": "stdout",
     "output_type": "stream",
     "text": [
      "Top terms per cluster:\n",
      "Cluster 0: member read airbnb check also see something atlanta over about\n",
      "Cluster 1: the data thanks stock good multiphysics among over first about\n",
      "Cluster 2: amazon multiphysics company find among something thanks good washington plus\n",
      "Cluster 3: chicago twitch during since welcome samuel end tesla not washington\n",
      "Cluster 4: like it in if but we for today where delivering\n",
      "Cluster 5: that have j99news something twitch visit san instead company chicago\n",
      "Cluster 6: you although company first since end many read once like\n",
      "Cluster 7: please starting disclaimer et twitch chicago over although end delivering\n",
      "Cluster 8: this ve those san of image j99news yet good slideshare\n",
      "Cluster 9: apple although data stock over yet disclaimer san airbnb member\n"
     ]
    },
    {
     "name": "stderr",
     "output_type": "stream",
     "text": [
      "D:\\Anaconda3\\lib\\site-packages\\sklearn\\utils\\deprecation.py:87: FutureWarning: Function get_feature_names is deprecated; get_feature_names is deprecated in 1.0 and will be removed in 1.2. Please use get_feature_names_out instead.\n",
      "  warnings.warn(msg, category=FutureWarning)\n"
     ]
    }
   ],
   "source": [
    "# minikm-tfidf-lsa\n",
    "print(\"Top terms per cluster:\")\n",
    "original_space_centroids = svd.inverse_transform(minikm_X_tfidf_lsa.cluster_centers_)\n",
    "order_centroids = original_space_centroids.argsort()[:, ::-1]\n",
    "terms = vectorizer_tfidf.get_feature_names()\n",
    "\n",
    "for i in range(10):\n",
    "    print(\"Cluster %d:\" % i, end='')\n",
    "    for ind in order_centroids[i, :10]:\n",
    "        print(' %s' % terms[ind], end='')\n",
    "    print()\n"
   ]
  },
  {
   "cell_type": "code",
   "execution_count": 32,
   "id": "0e381925",
   "metadata": {},
   "outputs": [
    {
     "name": "stdout",
     "output_type": "stream",
     "text": [
      "Cluster distribution:\n",
      "{9: 7143, 4: 510, 0: 127, 3: 1250, 2: 137, 8: 94, 7: 176, 1: 137, 5: 220, 6: 206}\n",
      "6949.1970685141\n"
     ]
    }
   ],
   "source": [
    "result = list(minikm_X_tfidf.predict(X_tfidf))\n",
    "print ('Cluster distribution:')\n",
    "print (dict([(i, result.count(i)) for i in result]))\n",
    "print(-minikm_X_tfidf.score(X_tfidf))"
   ]
  },
  {
   "cell_type": "code",
   "execution_count": 34,
   "id": "ade27f49",
   "metadata": {},
   "outputs": [
    {
     "data": {
      "image/png": "[encoded data removed]",
      "text/plain": [
       "<Figure size 432x288 with 1 Axes>"
      ]
     },
     "metadata": {
      "needs_background": "light"
     },
     "output_type": "display_data"
    }
   ],
   "source": [
    "import matplotlib.pyplot as plt\n",
    "def find_optimal_clusters(data, max_k):\n",
    "    iters = range(5, max_k+1, 2)\n",
    "    \n",
    "    sse = []\n",
    "    for k in iters:\n",
    "        sse.append(MiniBatchKMeans(n_clusters=k, init=\"k-means++\", init_size=1024, batch_size=2048, random_state=20).fit(data).inertia_)\n",
    "        \n",
    "    f, ax = plt.subplots(1, 1)\n",
    "    ax.plot(iters, sse, marker='o')\n",
    "    ax.set_xlabel('Cluster Centers')\n",
    "    ax.set_xticks(iters)\n",
    "    ax.set_xticklabels(iters)\n",
    "    ax.set_ylabel('SSE')\n",
    "    ax.set_title('SSE by Cluster Center Plot')\n",
    "    \n",
    "find_optimal_clusters(X_tfidf, 20)"
   ]
  },
  {
   "cell_type": "code",
   "execution_count": null,
   "id": "cdc46a9d",
   "metadata": {},
   "outputs": [],
   "source": []
  }
 ],
 "metadata": {
  "kernelspec": {
   "display_name": "Python [conda env:root] *",
   "language": "python",
   "name": "conda-root-py"
  },
  "language_info": {
   "codemirror_mode": {
    "name": "ipython",
    "version": 3
   },
   "file_extension": ".py",
   "mimetype": "text/x-python",
   "name": "python",
   "nbconvert_exporter": "python",
   "pygments_lexer": "ipython3",
   "version": "3.7.11"
  }
 },
 "nbformat": 4,
 "nbformat_minor": 5
}
