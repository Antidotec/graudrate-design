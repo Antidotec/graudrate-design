{
 "cells": [
  {
   "cell_type": "code",
   "execution_count": 1,
   "id": "94ac3a58",
   "metadata": {},
   "outputs": [
    {
     "name": "stderr",
     "output_type": "stream",
     "text": [
      "D:\\Anaconda3\\lib\\site-packages\\numpy\\_distributor_init.py:32: UserWarning: loaded more than 1 DLL from .libs:\n",
      "D:\\Anaconda3\\lib\\site-packages\\numpy\\.libs\\libopenblas.TXA6YQSD3GCQQC22GEQ54J2UDCXDXHWN.gfortran-win_amd64.dll\n",
      "D:\\Anaconda3\\lib\\site-packages\\numpy\\.libs\\libopenblas.XWYDX2IKJW2NMTWSFYNGFUWKQU3LYTCZ.gfortran-win_amd64.dll\n",
      "  stacklevel=1)\n"
     ]
    },
    {
     "ename": "ImportError",
     "evalue": "Could not find 'cudart64_100.dll'. TensorFlow requires that this DLL be installed in a directory that is named in your %PATH% environment variable. Download and install CUDA 10.0 from this URL: https://developer.nvidia.com/cuda-90-download-archive",
     "output_type": "error",
     "traceback": [
      "\u001b[1;31m---------------------------------------------------------------------------\u001b[0m",
      "\u001b[1;31mOSError\u001b[0m                                   Traceback (most recent call last)",
      "\u001b[1;32mD:\\Anaconda3\\lib\\site-packages\\tensorflow\\python\\platform\\self_check.py\u001b[0m in \u001b[0;36mpreload_check\u001b[1;34m()\u001b[0m\n\u001b[0;32m     74\u001b[0m         \u001b[1;32mtry\u001b[0m\u001b[1;33m:\u001b[0m\u001b[1;33m\u001b[0m\u001b[1;33m\u001b[0m\u001b[0m\n\u001b[1;32m---> 75\u001b[1;33m           \u001b[0mctypes\u001b[0m\u001b[1;33m.\u001b[0m\u001b[0mWinDLL\u001b[0m\u001b[1;33m(\u001b[0m\u001b[0mbuild_info\u001b[0m\u001b[1;33m.\u001b[0m\u001b[0mcudart_dll_name\u001b[0m\u001b[1;33m)\u001b[0m\u001b[1;33m\u001b[0m\u001b[1;33m\u001b[0m\u001b[0m\n\u001b[0m\u001b[0;32m     76\u001b[0m         \u001b[1;32mexcept\u001b[0m \u001b[0mOSError\u001b[0m\u001b[1;33m:\u001b[0m\u001b[1;33m\u001b[0m\u001b[1;33m\u001b[0m\u001b[0m\n",
      "\u001b[1;32mD:\\Anaconda3\\lib\\ctypes\\__init__.py\u001b[0m in \u001b[0;36m__init__\u001b[1;34m(self, name, mode, handle, use_errno, use_last_error)\u001b[0m\n\u001b[0;32m    363\u001b[0m         \u001b[1;32mif\u001b[0m \u001b[0mhandle\u001b[0m \u001b[1;32mis\u001b[0m \u001b[1;32mNone\u001b[0m\u001b[1;33m:\u001b[0m\u001b[1;33m\u001b[0m\u001b[1;33m\u001b[0m\u001b[0m\n\u001b[1;32m--> 364\u001b[1;33m             \u001b[0mself\u001b[0m\u001b[1;33m.\u001b[0m\u001b[0m_handle\u001b[0m \u001b[1;33m=\u001b[0m \u001b[0m_dlopen\u001b[0m\u001b[1;33m(\u001b[0m\u001b[0mself\u001b[0m\u001b[1;33m.\u001b[0m\u001b[0m_name\u001b[0m\u001b[1;33m,\u001b[0m \u001b[0mmode\u001b[0m\u001b[1;33m)\u001b[0m\u001b[1;33m\u001b[0m\u001b[1;33m\u001b[0m\u001b[0m\n\u001b[0m\u001b[0;32m    365\u001b[0m         \u001b[1;32melse\u001b[0m\u001b[1;33m:\u001b[0m\u001b[1;33m\u001b[0m\u001b[1;33m\u001b[0m\u001b[0m\n",
      "\u001b[1;31mOSError\u001b[0m: [WinError 126] 找不到指定的模块。",
      "\nDuring handling of the above exception, another exception occurred:\n",
      "\u001b[1;31mImportError\u001b[0m                               Traceback (most recent call last)",
      "\u001b[1;32m~\\AppData\\Local\\Temp/ipykernel_16028/1738781444.py\u001b[0m in \u001b[0;36m<module>\u001b[1;34m\u001b[0m\n\u001b[1;32m----> 1\u001b[1;33m \u001b[1;32mfrom\u001b[0m \u001b[0msummarizer\u001b[0m \u001b[1;32mimport\u001b[0m \u001b[0mSummarizer\u001b[0m\u001b[1;33m\u001b[0m\u001b[1;33m\u001b[0m\u001b[0m\n\u001b[0m\u001b[0;32m      2\u001b[0m \u001b[1;32mfrom\u001b[0m \u001b[0mtqdm\u001b[0m\u001b[1;33m.\u001b[0m\u001b[0mnotebook\u001b[0m \u001b[1;32mimport\u001b[0m \u001b[0mtqdm\u001b[0m\u001b[1;33m\u001b[0m\u001b[1;33m\u001b[0m\u001b[0m\n\u001b[0;32m      3\u001b[0m \u001b[1;32mimport\u001b[0m \u001b[0mos\u001b[0m\u001b[1;33m\u001b[0m\u001b[1;33m\u001b[0m\u001b[0m\n\u001b[0;32m      4\u001b[0m \u001b[1;33m\u001b[0m\u001b[0m\n\u001b[0;32m      5\u001b[0m \u001b[0mdocfile_path\u001b[0m \u001b[1;33m=\u001b[0m \u001b[1;34m'D:/毕业设计/code/data/'\u001b[0m\u001b[1;33m\u001b[0m\u001b[1;33m\u001b[0m\u001b[0m\n",
      "\u001b[1;32mD:\\Anaconda3\\lib\\site-packages\\summarizer\\__init__.py\u001b[0m in \u001b[0;36m<module>\u001b[1;34m\u001b[0m\n\u001b[1;32m----> 1\u001b[1;33m \u001b[1;32mfrom\u001b[0m \u001b[0msummarizer\u001b[0m\u001b[1;33m.\u001b[0m\u001b[0mbert\u001b[0m \u001b[1;32mimport\u001b[0m \u001b[0mSummarizer\u001b[0m\u001b[1;33m,\u001b[0m \u001b[0mTransformerSummarizer\u001b[0m\u001b[1;33m\u001b[0m\u001b[1;33m\u001b[0m\u001b[0m\n\u001b[0m\u001b[0;32m      2\u001b[0m \u001b[1;33m\u001b[0m\u001b[0m\n\u001b[0;32m      3\u001b[0m \u001b[0m__all__\u001b[0m \u001b[1;33m=\u001b[0m \u001b[1;33m[\u001b[0m\u001b[1;34m\"Summarizer\"\u001b[0m\u001b[1;33m,\u001b[0m \u001b[1;34m\"TransformerSummarizer\"\u001b[0m\u001b[1;33m]\u001b[0m\u001b[1;33m\u001b[0m\u001b[1;33m\u001b[0m\u001b[0m\n",
      "\u001b[1;32mD:\\Anaconda3\\lib\\site-packages\\summarizer\\bert.py\u001b[0m in \u001b[0;36m<module>\u001b[1;34m\u001b[0m\n\u001b[0;32m      2\u001b[0m \u001b[1;32mfrom\u001b[0m \u001b[0mtyping\u001b[0m \u001b[1;32mimport\u001b[0m \u001b[0mList\u001b[0m\u001b[1;33m,\u001b[0m \u001b[0mOptional\u001b[0m\u001b[1;33m,\u001b[0m \u001b[0mUnion\u001b[0m\u001b[1;33m\u001b[0m\u001b[1;33m\u001b[0m\u001b[0m\n\u001b[0;32m      3\u001b[0m \u001b[1;33m\u001b[0m\u001b[0m\n\u001b[1;32m----> 4\u001b[1;33m from transformers import (AlbertModel, AlbertTokenizer, BartModel, BigBirdModel, BigBirdTokenizer,\n\u001b[0m\u001b[0;32m      5\u001b[0m                           \u001b[0mBartTokenizer\u001b[0m\u001b[1;33m,\u001b[0m \u001b[0mBertModel\u001b[0m\u001b[1;33m,\u001b[0m \u001b[0mBertTokenizer\u001b[0m\u001b[1;33m,\u001b[0m\u001b[1;33m\u001b[0m\u001b[1;33m\u001b[0m\u001b[0m\n\u001b[0;32m      6\u001b[0m                           \u001b[0mCamembertModel\u001b[0m\u001b[1;33m,\u001b[0m \u001b[0mCamembertTokenizer\u001b[0m\u001b[1;33m,\u001b[0m \u001b[0mCTRLModel\u001b[0m\u001b[1;33m,\u001b[0m\u001b[1;33m\u001b[0m\u001b[1;33m\u001b[0m\u001b[0m\n",
      "\u001b[1;32mD:\\Anaconda3\\lib\\site-packages\\transformers\\__init__.py\u001b[0m in \u001b[0;36m<module>\u001b[1;34m\u001b[0m\n\u001b[0;32m     28\u001b[0m \u001b[1;33m\u001b[0m\u001b[0m\n\u001b[0;32m     29\u001b[0m \u001b[1;31m# Check the dependencies satisfy the minimal versions required.\u001b[0m\u001b[1;33m\u001b[0m\u001b[1;33m\u001b[0m\u001b[1;33m\u001b[0m\u001b[0m\n\u001b[1;32m---> 30\u001b[1;33m \u001b[1;32mfrom\u001b[0m \u001b[1;33m.\u001b[0m \u001b[1;32mimport\u001b[0m \u001b[0mdependency_versions_check\u001b[0m\u001b[1;33m\u001b[0m\u001b[1;33m\u001b[0m\u001b[0m\n\u001b[0m\u001b[0;32m     31\u001b[0m from .utils import (\n\u001b[0;32m     32\u001b[0m     \u001b[0m_LazyModule\u001b[0m\u001b[1;33m,\u001b[0m\u001b[1;33m\u001b[0m\u001b[1;33m\u001b[0m\u001b[0m\n",
      "\u001b[1;32mD:\\Anaconda3\\lib\\site-packages\\transformers\\dependency_versions_check.py\u001b[0m in \u001b[0;36m<module>\u001b[1;34m\u001b[0m\n\u001b[0;32m     15\u001b[0m \u001b[1;33m\u001b[0m\u001b[0m\n\u001b[0;32m     16\u001b[0m \u001b[1;32mfrom\u001b[0m \u001b[1;33m.\u001b[0m\u001b[0mdependency_versions_table\u001b[0m \u001b[1;32mimport\u001b[0m \u001b[0mdeps\u001b[0m\u001b[1;33m\u001b[0m\u001b[1;33m\u001b[0m\u001b[0m\n\u001b[1;32m---> 17\u001b[1;33m \u001b[1;32mfrom\u001b[0m \u001b[1;33m.\u001b[0m\u001b[0mutils\u001b[0m\u001b[1;33m.\u001b[0m\u001b[0mversions\u001b[0m \u001b[1;32mimport\u001b[0m \u001b[0mrequire_version\u001b[0m\u001b[1;33m,\u001b[0m \u001b[0mrequire_version_core\u001b[0m\u001b[1;33m\u001b[0m\u001b[1;33m\u001b[0m\u001b[0m\n\u001b[0m\u001b[0;32m     18\u001b[0m \u001b[1;33m\u001b[0m\u001b[0m\n\u001b[0;32m     19\u001b[0m \u001b[1;33m\u001b[0m\u001b[0m\n",
      "\u001b[1;32mD:\\Anaconda3\\lib\\site-packages\\transformers\\utils\\__init__.py\u001b[0m in \u001b[0;36m<module>\u001b[1;34m\u001b[0m\n\u001b[0;32m     43\u001b[0m     \u001b[0mto_py_obj\u001b[0m\u001b[1;33m,\u001b[0m\u001b[1;33m\u001b[0m\u001b[1;33m\u001b[0m\u001b[0m\n\u001b[0;32m     44\u001b[0m )\n\u001b[1;32m---> 45\u001b[1;33m from .hub import (\n\u001b[0m\u001b[0;32m     46\u001b[0m     \u001b[0mCLOUDFRONT_DISTRIB_PREFIX\u001b[0m\u001b[1;33m,\u001b[0m\u001b[1;33m\u001b[0m\u001b[1;33m\u001b[0m\u001b[0m\n\u001b[0;32m     47\u001b[0m     \u001b[0mDISABLE_TELEMETRY\u001b[0m\u001b[1;33m,\u001b[0m\u001b[1;33m\u001b[0m\u001b[1;33m\u001b[0m\u001b[0m\n",
      "\u001b[1;32mD:\\Anaconda3\\lib\\site-packages\\transformers\\utils\\hub.py\u001b[0m in \u001b[0;36m<module>\u001b[1;34m\u001b[0m\n\u001b[0;32m     37\u001b[0m \u001b[1;32mimport\u001b[0m \u001b[0mrequests\u001b[0m\u001b[1;33m\u001b[0m\u001b[1;33m\u001b[0m\u001b[0m\n\u001b[0;32m     38\u001b[0m \u001b[1;32mfrom\u001b[0m \u001b[0mfilelock\u001b[0m \u001b[1;32mimport\u001b[0m \u001b[0mFileLock\u001b[0m\u001b[1;33m\u001b[0m\u001b[1;33m\u001b[0m\u001b[0m\n\u001b[1;32m---> 39\u001b[1;33m \u001b[1;32mfrom\u001b[0m \u001b[0mhuggingface_hub\u001b[0m \u001b[1;32mimport\u001b[0m \u001b[0mHfFolder\u001b[0m\u001b[1;33m,\u001b[0m \u001b[0mRepository\u001b[0m\u001b[1;33m,\u001b[0m \u001b[0mcreate_repo\u001b[0m\u001b[1;33m,\u001b[0m \u001b[0mlist_repo_files\u001b[0m\u001b[1;33m,\u001b[0m \u001b[0mwhoami\u001b[0m\u001b[1;33m\u001b[0m\u001b[1;33m\u001b[0m\u001b[0m\n\u001b[0m\u001b[0;32m     40\u001b[0m \u001b[1;32mfrom\u001b[0m \u001b[0mrequests\u001b[0m\u001b[1;33m.\u001b[0m\u001b[0mexceptions\u001b[0m \u001b[1;32mimport\u001b[0m \u001b[0mHTTPError\u001b[0m\u001b[1;33m\u001b[0m\u001b[1;33m\u001b[0m\u001b[0m\n\u001b[0;32m     41\u001b[0m \u001b[1;32mfrom\u001b[0m \u001b[0mtransformers\u001b[0m\u001b[1;33m.\u001b[0m\u001b[0mutils\u001b[0m\u001b[1;33m.\u001b[0m\u001b[0mlogging\u001b[0m \u001b[1;32mimport\u001b[0m \u001b[0mtqdm\u001b[0m\u001b[1;33m\u001b[0m\u001b[1;33m\u001b[0m\u001b[0m\n",
      "\u001b[1;32mD:\\Anaconda3\\lib\\site-packages\\huggingface_hub\\__init__.py\u001b[0m in \u001b[0;36m<module>\u001b[1;34m\u001b[0m\n\u001b[0;32m     61\u001b[0m \u001b[1;32mfrom\u001b[0m \u001b[1;33m.\u001b[0m\u001b[0mhub_mixin\u001b[0m \u001b[1;32mimport\u001b[0m \u001b[0mModelHubMixin\u001b[0m\u001b[1;33m,\u001b[0m \u001b[0mPyTorchModelHubMixin\u001b[0m\u001b[1;33m\u001b[0m\u001b[1;33m\u001b[0m\u001b[0m\n\u001b[0;32m     62\u001b[0m \u001b[1;32mfrom\u001b[0m \u001b[1;33m.\u001b[0m\u001b[0minference_api\u001b[0m \u001b[1;32mimport\u001b[0m \u001b[0mInferenceApi\u001b[0m\u001b[1;33m\u001b[0m\u001b[1;33m\u001b[0m\u001b[0m\n\u001b[1;32m---> 63\u001b[1;33m from .keras_mixin import (\n\u001b[0m\u001b[0;32m     64\u001b[0m     \u001b[0mKerasModelHubMixin\u001b[0m\u001b[1;33m,\u001b[0m\u001b[1;33m\u001b[0m\u001b[1;33m\u001b[0m\u001b[0m\n\u001b[0;32m     65\u001b[0m     \u001b[0mfrom_pretrained_keras\u001b[0m\u001b[1;33m,\u001b[0m\u001b[1;33m\u001b[0m\u001b[1;33m\u001b[0m\u001b[0m\n",
      "\u001b[1;32mD:\\Anaconda3\\lib\\site-packages\\huggingface_hub\\keras_mixin.py\u001b[0m in \u001b[0;36m<module>\u001b[1;34m\u001b[0m\n\u001b[0;32m     22\u001b[0m \u001b[1;33m\u001b[0m\u001b[0m\n\u001b[0;32m     23\u001b[0m \u001b[1;32mif\u001b[0m \u001b[0mis_tf_available\u001b[0m\u001b[1;33m(\u001b[0m\u001b[1;33m)\u001b[0m\u001b[1;33m:\u001b[0m\u001b[1;33m\u001b[0m\u001b[1;33m\u001b[0m\u001b[0m\n\u001b[1;32m---> 24\u001b[1;33m     \u001b[1;32mimport\u001b[0m \u001b[0mtensorflow\u001b[0m \u001b[1;32mas\u001b[0m \u001b[0mtf\u001b[0m\u001b[1;33m\u001b[0m\u001b[1;33m\u001b[0m\u001b[0m\n\u001b[0m\u001b[0;32m     25\u001b[0m \u001b[1;33m\u001b[0m\u001b[0m\n\u001b[0;32m     26\u001b[0m \u001b[1;33m\u001b[0m\u001b[0m\n",
      "\u001b[1;32mD:\\Anaconda3\\lib\\site-packages\\tensorflow\\__init__.py\u001b[0m in \u001b[0;36m<module>\u001b[1;34m\u001b[0m\n\u001b[0;32m     26\u001b[0m \u001b[1;33m\u001b[0m\u001b[0m\n\u001b[0;32m     27\u001b[0m \u001b[1;31m# pylint: disable=g-bad-import-order\u001b[0m\u001b[1;33m\u001b[0m\u001b[1;33m\u001b[0m\u001b[1;33m\u001b[0m\u001b[0m\n\u001b[1;32m---> 28\u001b[1;33m \u001b[1;32mfrom\u001b[0m \u001b[0mtensorflow\u001b[0m\u001b[1;33m.\u001b[0m\u001b[0mpython\u001b[0m \u001b[1;32mimport\u001b[0m \u001b[0mpywrap_tensorflow\u001b[0m  \u001b[1;31m# pylint: disable=unused-import\u001b[0m\u001b[1;33m\u001b[0m\u001b[1;33m\u001b[0m\u001b[0m\n\u001b[0m\u001b[0;32m     29\u001b[0m \u001b[1;32mfrom\u001b[0m \u001b[0mtensorflow\u001b[0m\u001b[1;33m.\u001b[0m\u001b[0mpython\u001b[0m\u001b[1;33m.\u001b[0m\u001b[0mtools\u001b[0m \u001b[1;32mimport\u001b[0m \u001b[0mmodule_util\u001b[0m \u001b[1;32mas\u001b[0m \u001b[0m_module_util\u001b[0m\u001b[1;33m\u001b[0m\u001b[1;33m\u001b[0m\u001b[0m\n\u001b[0;32m     30\u001b[0m \u001b[1;33m\u001b[0m\u001b[0m\n",
      "\u001b[1;32mD:\\Anaconda3\\lib\\site-packages\\tensorflow\\python\\__init__.py\u001b[0m in \u001b[0;36m<module>\u001b[1;34m\u001b[0m\n\u001b[0;32m     47\u001b[0m \u001b[1;32mimport\u001b[0m \u001b[0mnumpy\u001b[0m \u001b[1;32mas\u001b[0m \u001b[0mnp\u001b[0m\u001b[1;33m\u001b[0m\u001b[1;33m\u001b[0m\u001b[0m\n\u001b[0;32m     48\u001b[0m \u001b[1;33m\u001b[0m\u001b[0m\n\u001b[1;32m---> 49\u001b[1;33m \u001b[1;32mfrom\u001b[0m \u001b[0mtensorflow\u001b[0m\u001b[1;33m.\u001b[0m\u001b[0mpython\u001b[0m \u001b[1;32mimport\u001b[0m \u001b[0mpywrap_tensorflow\u001b[0m\u001b[1;33m\u001b[0m\u001b[1;33m\u001b[0m\u001b[0m\n\u001b[0m\u001b[0;32m     50\u001b[0m \u001b[1;33m\u001b[0m\u001b[0m\n\u001b[0;32m     51\u001b[0m \u001b[1;31m# Protocol buffers\u001b[0m\u001b[1;33m\u001b[0m\u001b[1;33m\u001b[0m\u001b[1;33m\u001b[0m\u001b[0m\n",
      "\u001b[1;32mD:\\Anaconda3\\lib\\site-packages\\tensorflow\\python\\pywrap_tensorflow.py\u001b[0m in \u001b[0;36m<module>\u001b[1;34m\u001b[0m\n\u001b[0;32m     28\u001b[0m \u001b[1;31m# Perform pre-load sanity checks in order to produce a more actionable error\u001b[0m\u001b[1;33m\u001b[0m\u001b[1;33m\u001b[0m\u001b[1;33m\u001b[0m\u001b[0m\n\u001b[0;32m     29\u001b[0m \u001b[1;31m# than we get from an error during SWIG import.\u001b[0m\u001b[1;33m\u001b[0m\u001b[1;33m\u001b[0m\u001b[1;33m\u001b[0m\u001b[0m\n\u001b[1;32m---> 30\u001b[1;33m \u001b[0mself_check\u001b[0m\u001b[1;33m.\u001b[0m\u001b[0mpreload_check\u001b[0m\u001b[1;33m(\u001b[0m\u001b[1;33m)\u001b[0m\u001b[1;33m\u001b[0m\u001b[1;33m\u001b[0m\u001b[0m\n\u001b[0m\u001b[0;32m     31\u001b[0m \u001b[1;33m\u001b[0m\u001b[0m\n\u001b[0;32m     32\u001b[0m \u001b[1;31m# pylint: disable=wildcard-import,g-import-not-at-top,unused-import,line-too-long\u001b[0m\u001b[1;33m\u001b[0m\u001b[1;33m\u001b[0m\u001b[1;33m\u001b[0m\u001b[0m\n",
      "\u001b[1;32mD:\\Anaconda3\\lib\\site-packages\\tensorflow\\python\\platform\\self_check.py\u001b[0m in \u001b[0;36mpreload_check\u001b[1;34m()\u001b[0m\n\u001b[0;32m     80\u001b[0m               \u001b[1;34m\"environment variable. Download and install CUDA %s from \"\u001b[0m\u001b[1;33m\u001b[0m\u001b[1;33m\u001b[0m\u001b[0m\n\u001b[0;32m     81\u001b[0m               \u001b[1;34m\"this URL: https://developer.nvidia.com/cuda-90-download-archive\"\u001b[0m\u001b[1;33m\u001b[0m\u001b[1;33m\u001b[0m\u001b[0m\n\u001b[1;32m---> 82\u001b[1;33m               % (build_info.cudart_dll_name, build_info.cuda_version_number))\n\u001b[0m\u001b[0;32m     83\u001b[0m \u001b[1;33m\u001b[0m\u001b[0m\n\u001b[0;32m     84\u001b[0m       if hasattr(build_info, \"cudnn_dll_name\") and hasattr(\n",
      "\u001b[1;31mImportError\u001b[0m: Could not find 'cudart64_100.dll'. TensorFlow requires that this DLL be installed in a directory that is named in your %PATH% environment variable. Download and install CUDA 10.0 from this URL: https://developer.nvidia.com/cuda-90-download-archive"
     ]
    }
   ],
   "source": [
    "from summarizer import Summarizer\n",
    "from tqdm import tqdm\n",
    "import os\n",
    "from textblob import TextBlob\n",
    "import re\n",
    "import threading\n",
    "docfile_path = '/home/wc/abstrct/data'\n",
    "target_path = '/home/wc/abstrct/res/'  # 存放处理好的文件\n",
    "files = os.listdir(docfile_path)\n",
    "docs = []  # 文档路径集合\n",
    "for f in files:\n",
    "    filePath = os.path.join(docfile_path, f)\n",
    "    docs.append(filePath)\n",
    "    \n",
    "n_file = len(docs)\n",
    "file_index = 0\n",
    "thread_num = 32\n",
    "mylock = threading.RLock()\n",
    "\n",
    "per_file = n_file // thread_num\n",
    "\n",
    "# 修正拼写错误删除特殊的字符以及长度过短的文章\n",
    "def clear_character(sentence):\n",
    "    sentence = str(TextBlob(sentence).correct())\n",
    "    new_sentence = ''.join(res)\n",
    "    if len(new_sentence)<40 or len(new_sentence)*2 < len(sentence):\n",
    "        new_sentence = ''\n",
    "    return new_sentence\n",
    "\n",
    "\n"
   ]
  },
  {
   "cell_type": "code",
   "execution_count": 3,
   "id": "1bab60cf",
   "metadata": {},
   "outputs": [
    {
     "data": {
      "text/plain": [
       "'0  : omnipotent  Omnipotent ,  : JobHunting \\xa0  : Master 2 Airbnb level : BBS    Sun Feb 10 20:06:56 2019,  Airbnb offer L4 170k Base 100k   year  . L3   : WWW    mitbbs.com  FROM: 184. : sweetbrucete  sweetbrucetea ,  : JobHunting \\xa0  : Re: Master 2 Airbnb level : BBS    Sun Feb 10 20:16:50 2019,  bar MS 2 Airbnb offer   : WWW    mitbbs.com  FROM: 2601:640:8100:c : dream2013  dream ,  : JobHunting \\xa0  : Re: Master 2 Airbnb level : BBS    Sun Feb 10 20:40:57 2019,  Onsite  Slack IPO   : WWW    mitbbs.com  FROM: 68. : omnipotent  Omnipotent ,  : JobHunting \\xa0  : Re: Master 2 Airbnb level : BBS    Sun Feb 10 20:43:20 2019,      bar    dream2013  dream   :  :  Onsite  Slack IPO   : WWW    mitbbs.com  FROM: 184. : garphy  ,  : JobHunting \\xa0  : Re: Master 2 Airbnb level : BBS    Sun Feb 10 22:35:33 2019,  bar recruiter master 2 \\xa0 omnipotent Omnipotent Airbnb offer L4 170k Base 100k   year    : Android    mitbbs.com  FROM: 2601:640:8201:d : manbeing  ,  : JobHunting \\xa0  : Re: Master 2 Airbnb level : BBS    Mon Feb 11 08:59:02 2019,     omnipotent  Omnipotent   :  :  Airbnb offer : L4 170k Base 100k   year  :  .:  L3    iPhone   1.24.09   : WWW    mitbbs.com  FROM: 73. : garphy  ,  : JobHunting \\xa0  : Re: Master 2 Airbnb level : BBS    Mon Feb 11 12:12:23 2019,  startup \\xa0 manbeing   : Android    mitbbs.com  FROM: 2600:1010:b021: Site Map   Contact Us   Terms and Conditions   Privacy Policy  mitbbs.com since 1996'"
      ]
     },
     "execution_count": 3,
     "metadata": {},
     "output_type": "execute_result"
    }
   ],
   "source": [
    "import re\n",
    "text = \"��ƪ���¹��յ�����0 ������: omnipotent (Omnipotent), ����: JobHunting��  ��: Master 2�꾭��ȥAirbnb����level��������վ: BBS δ���ռ�վ (Sun Feb 10 20:06:56 2019, ����)������ұ���Airbnb��offer����L4 170k Base 100k / year ��Ʊ��Ҳ̫����.��ȥ�ǲ���ֻ����L3?--�� ��Դ:��WWW δ���ռ�վ ��ַ��mitbbs.com �ƶ�����Ӧ���̵�����δ���ռ䡤[FROM: 184.]������: sweetbrucete (sweetbrucetea), ����: JobHunting��  ��: Re: Master 2�꾭��ȥAirbnb����level��������վ: BBS δ���ռ�վ (Sun Feb 10 20:16:50 2019, ����)�Ҿ���Ҫ�����������ǵ�bar���ͣ��󲿷�MS 2���ȥAirbnb�ģ��õ��Ĳ�ֹ��һ��offer��Ҫ�ǲ���������֣������в�����--�� ��Դ:��WWW δ���ռ�վ ��ַ��mitbbs.com �ƶ�����Ӧ���̵�����δ���ռ䡤[FROM: 2601:640:8100:c]������: dream2013 (dream), ����: JobHunting��  ��: Re: Master 2�꾭��ȥAirbnb����level��������վ: BBS δ���ռ�վ (Sun Feb 10 20:40:57 2019, ����)���Onsite�ͷ�������������Ǽ����� Slack��������IPO--�� ��Դ:��WWW δ���ռ�վ ��ַ��mitbbs.com �ƶ�����Ӧ���̵�����δ���ռ䡤[FROM: 68.]������: omnipotent (Omnipotent), ����: JobHunting��  ��: Re: Master 2�꾭��ȥAirbnb����level��������վ: BBS δ���ռ�վ (Sun Feb 10 20:43:20 2019, ����)�����֪�� �������ڷ�������ˢ �о�barһ���ܸ��� �� dream2013 (dream) �Ĵ������ᵽ: ��: ���Onsite�ͷ�������������Ǽ����� Slack��������IPO--�� ��Դ:��WWW δ���ռ�վ ��ַ��mitbbs.com �ƶ�����Ӧ���̵�����δ���ռ䡤[FROM: 184.]������: garphy (ϲ��è), ����: JobHunting��  ��: Re: Master 2�꾭��ȥAirbnb����level��������վ: BBS δ���ռ�վ (Sun Feb 10 22:35:33 2019, ����)bar���ͣ�����Ը�recruiter˵����Ҫ��ʲô�������master+2������п�������  omnipotent(Omnipotent)�Ĵ������ᵽ������������ұ���Airbnb��offer������L4 170k Base 100k / year ��Ʊ--�� ��Դ:��Android δ���ռ�վ ��ַ��mitbbs.com �ƶ�����Ӧ���̵�����δ���ռ䡤[FROM: 2601:640:8201:d]������: manbeing (ţ�̶�), ����: JobHunting��  ��: Re: Master 2�꾭��ȥAirbnb����level��������վ: BBS δ���ռ�վ (Mon Feb 11 08:59:02 2019, ����)����û���У������Ĺ�Ʊ���� �� omnipotent (Omnipotent) �Ĵ������ᵽ: ��: ������ұ���Airbnb��offer����: L4 170k Base 100k / year ��Ʊ: ��Ҳ̫����.: ��ȥ�ǲ���ֻ����L3?--�� ���� iPhone ������ 1.24.09--�� ��Դ:��WWW δ���ռ�վ ��ַ��mitbbs.com �ƶ�����Ӧ���̵�����δ���ռ䡤[FROM: 73.]������: garphy (ϲ��è), ����: JobHunting��  ��: Re: Master 2�꾭��ȥAirbnb����level��������վ: BBS δ���ռ�վ (Mon Feb 11 12:12:23 2019, ����)startup�Ĺ�Ʊ���и���ĳɳ��ռ䡣����  manbeing(ţ�̶�)�Ĵ������ᵽ����������û���У������Ĺ�Ʊ����--�� ��Դ:��Android δ���ռ�վ ��ַ��mitbbs.com �ƶ�����Ӧ���̵�����δ���ռ䡤[FROM: 2600:1010:b021:]Site Map - Contact Us - Terms and Conditions - Privacy Policy ��Ȩ���У�δ���ռ䣨mitbbs.com����since 1996\"\n",
    "res = re.findall(\"[\\u4e00-\\u9fa5_a-zA-Z.,!:0-9\\s]+\",text)\n",
    "text = ' '.join(res)\n",
    "text"
   ]
  },
  {
   "cell_type": "code",
   "execution_count": null,
   "id": "e344c48e",
   "metadata": {},
   "outputs": [],
   "source": [
    "import os\n",
    "import time\n",
    "import multiprocessing\n",
    "\n",
    "docfile_path = '/home/wc/abstrct/data'\n",
    "target_path = '/home/wc/abstrct/res/'  # 存放处理好的文件\n",
    "files = os.listdir(docfile_path)\n",
    "docs = []  # 文档路径集合\n",
    "for f in files:\n",
    "    filePath = os.path.join(docfile_path, f)\n",
    "    docs.append(filePath)\n",
    "    \n",
    "n_file = len(docs)\n",
    "file_index = 0\n",
    "thread_num = 8\n",
    "mylock = threading.RLock()\n",
    "\n",
    "per_file = n_file // thread_num\n",
    "\n",
    "# 修正拼写错误删除特殊的字符以及长度过短的文章\n",
    "def clear_character(sentence):\n",
    "    sentence = str(TextBlob(sentence).correct())\n",
    "    res = re.findall(\"[\\u4e00-\\u9fa5_a-zA-Z.,!:0-9\\s]+\",sentence)\n",
    "    new_sentence = ''.join(res)\n",
    "    if len(new_sentence)<40 or len(new_sentence)*2 < len(sentence):\n",
    "        new_sentence = ''\n",
    "    return new_sentence\n",
    "\n",
    "def work():\n",
    "    for i in tqdm(range(n_file)):\n",
    "        index = start + i;\n",
    "        f = open(docs[index], encoding='utf-8')\n",
    "        content = f.read()\n",
    "        f.close()\n",
    "        content = clear_character(content)\n",
    "        if content == '':\n",
    "            continue\n",
    "        result = model(content, ratio=0.3)  # Specified with ratio\n",
    "        full = ''.join(result)\n",
    "        new_file = target_path + str(file_index) + '.txt'\n",
    "        with open(new_file, 'w', encoding='utf-8') as f:\n",
    "            f.write(full)\n",
    "        mylock.acquire()\n",
    "        file_index += 1\n",
    "        mylock.release()\n",
    "        \n",
    "if __name__ == '__main__':\n",
    "    pool = multiprocessing.Pool(thread_num) #进程池中有5个进程\n",
    "    pool.apply_async(func=work)\n"
   ]
  },
  {
   "cell_type": "code",
   "execution_count": 21,
   "id": "e9860e04",
   "metadata": {},
   "outputs": [],
   "source": [
    "import threading\n",
    "import os\n",
    "import time\n",
    "def work():\n",
    "     print(os.getpid())\n",
    "    time.sleep(1000)\n",
    "    print(\"结束额了\")\n",
    "    \n",
    "for i in range(5):\n",
    "    thread = threading.Thread(target=work)\n",
    "    thread.start()\n"
   ]
  },
  {
   "cell_type": "code",
   "execution_count": 22,
   "id": "83a326a1",
   "metadata": {},
   "outputs": [
    {
     "data": {
      "text/plain": [
       "1"
      ]
     },
     "execution_count": 22,
     "metadata": {},
     "output_type": "execute_result"
    },
    {
     "name": "stdout",
     "output_type": "stream",
     "text": [
      "结束额了\n",
      "结束额了\n",
      "结束额了\n",
      "结束额了\n",
      "结束额了\n",
      "结束额了结束额了\n",
      "\n",
      "结束额了\n",
      "结束额了结束额了\n",
      "\n",
      "结束额了\n",
      "结束额了\n",
      "结束额了\n",
      "结束额了\n",
      "结束额了\n",
      "结束额了\n",
      "结束额了\n",
      "结束额了结束额了结束额了\n",
      "\n",
      "\n",
      "结束额了\n",
      "结束额了\n",
      "结束额了\n",
      "结束额了\n",
      "结束额了\n",
      "结束额了\n",
      "结束额了\n",
      "结束额了\n",
      "结束额了\n",
      "结束额了\n",
      "结束额了\n",
      "结束额了\n",
      "结束额了\n",
      "结束额了\n",
      "结束额了\n"
     ]
    }
   ],
   "source": [
    "8//8"
   ]
  },
  {
   "cell_type": "code",
   "execution_count": null,
   "id": "fad6baf2",
   "metadata": {},
   "outputs": [],
   "source": [
    "import torch\n",
    "from models.model_builder import ExtSummarizer\n",
    "from ext_sum import summarize\n",
    "\n",
    "# Load model\n",
    "model_type = 'mobilebert' #@param ['bertbase', 'distilbert', 'mobilebert']\n",
    "checkpoint = torch.load(f'checkpoints/{model_type}_ext.pt', map_location='cpu')\n",
    "model = ExtSummarizer(checkpoint=checkpoint, bert_type=model_type, device='cpu')\n",
    "\n",
    "# Run summarization\n",
    "input_fp = 'raw_data/input.txt'\n",
    "result_fp = 'results/summary.txt'\n",
    "summary = summarize(input_fp, result_fp, model, max_length=3)\n",
    "print(summary)"
   ]
  }
 ],
 "metadata": {
  "kernelspec": {
   "display_name": "Python [conda env:root] *",
   "language": "python",
   "name": "conda-root-py"
  },
  "language_info": {
   "codemirror_mode": {
    "name": "ipython",
    "version": 3
   },
   "file_extension": ".py",
   "mimetype": "text/x-python",
   "name": "python",
   "nbconvert_exporter": "python",
   "pygments_lexer": "ipython3",
   "version": "3.7.11"
  }
 },
 "nbformat": 4,
 "nbformat_minor": 5
}
