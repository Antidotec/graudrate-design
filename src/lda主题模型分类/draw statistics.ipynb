{
 "cells": [
  {
   "cell_type": "code",
   "execution_count": 4,
   "id": "b5e7819d",
   "metadata": {},
   "outputs": [],
   "source": [
    "from pyecharts import options as opts\n",
    "from pyecharts.charts import Bar\n",
    "from pyecharts.faker import Faker\n",
    "from pyecharts.globals import ThemeType\n",
    "\n",
    "\n",
    "c = (\n",
    "    Bar({\"theme\": ThemeType.ROMA})\n",
    "    .add_xaxis([\"Classifier\",\"Transformer(2_layer)\",\"LSTM\"])\n",
    "    .add_yaxis(\"ROUGE-1\", [43.23,43.26,43.22])\n",
    "    .add_yaxis(\"ROUGE-2\", [20.32,20.34,20.15])\n",
    "    .add_yaxis(\"ROUGE-L\",[39.61,39.69,39.56])\n",
    "    .set_global_opts(title_opts=opts.TitleOpts(title=\"Rouge Scores Comparision\"),\n",
    "                    datazoom_opts=opts.DataZoomOpts(orient=\"vertical\"),)\n",
    "    \n",
    "    .render(\"bar_base.html\")\n",
    ")"
   ]
  },
  {
   "cell_type": "code",
   "execution_count": null,
   "id": "c20fe3d5",
   "metadata": {},
   "outputs": [],
   "source": [
    "from pyecharts import options as opts\n",
    "from pyecharts.charts import Bar\n",
    "from pyecharts.faker import Faker\n",
    "\n",
    "c = (\n",
    "    Bar()\n",
    "    .add_xaxis(Faker.days_attrs)\n",
    "    .add_yaxis(\"商家A\", Faker.days_values)\n",
    "    .set_global_opts(\n",
    "        title_opts=opts.TitleOpts(title=\"Bar-DataZoom（slider-水平）\"),\n",
    "        datazoom_opts=opts.DataZoomOpts(orient=\"vertical\"),\n",
    "    )\n",
    "    .render(\"bar_datazoom_slider.html\")\n",
    ")\n"
   ]
  },
  {
   "cell_type": "code",
   "execution_count": 6,
   "id": "74136018",
   "metadata": {},
   "outputs": [
    {
     "data": {
      "application/vnd.jupyter.widget-view+json": {
       "model_id": "fe0f05205a414b49955cca6ede6ea41f",
       "version_major": 2,
       "version_minor": 0
      },
      "text/plain": [
       "  0%|          | 0/139119 [00:00<?, ?it/s]"
      ]
     },
     "metadata": {},
     "output_type": "display_data"
    },
    {
     "name": "stdout",
     "output_type": "stream",
     "text": [
      "139119\n",
      "545.9299089268899\n"
     ]
    }
   ],
   "source": [
    "#构建corpus\n",
    "from tqdm.notebook import tqdm\n",
    "import os\n",
    "path =\"D:/毕业设计/data/news_abstract/\"  # 待处理的数据\n",
    "fileList = os.listdir(path)\n",
    "docs = [] #文档集合\n",
    "file_lenth = 0\n",
    "for i in tqdm(range(len(fileList))):\n",
    "    file = fileList[i]\n",
    "    filePath = os.path.join(path, file)\n",
    "    f = open(filePath, encoding='utf-8')\n",
    "    content = f.read()\n",
    "    file_lenth += len(content)\n",
    "    f.close()\n",
    "    docs.append(content)\n",
    "print(len(docs))\n",
    "print(file_lenth/len(docs))"
   ]
  },
  {
   "cell_type": "code",
   "execution_count": 7,
   "id": "9c9ea1b1",
   "metadata": {},
   "outputs": [
    {
     "data": {
      "application/vnd.jupyter.widget-view+json": {
       "model_id": "ec2f3e509551453596979a55935a3218",
       "version_major": 2,
       "version_minor": 0
      },
      "text/plain": [
       "  0%|          | 0/139559 [00:00<?, ?it/s]"
      ]
     },
     "metadata": {},
     "output_type": "display_data"
    },
    {
     "name": "stdout",
     "output_type": "stream",
     "text": [
      "139559\n",
      "12799.482605922944\n"
     ]
    }
   ],
   "source": [
    "#构建corpus\n",
    "import os\n",
    "path =\"D:/毕业设计/data/新闻集合/\"  # 待处理的数据\n",
    "fileList = os.listdir(path)\n",
    "docs = [] #文档集合\n",
    "file_lenth = 0\n",
    "for i in tqdm(range(len(fileList))):\n",
    "    file = fileList[i]\n",
    "    filePath = os.path.join(path, file)\n",
    "    f = open(filePath, encoding='utf-8')\n",
    "    content = f.read()\n",
    "    file_lenth += len(content)\n",
    "    f.close()\n",
    "    docs.append(content)\n",
    "print(len(docs))\n",
    "print(file_lenth/len(docs))"
   ]
  },
  {
   "cell_type": "code",
   "execution_count": null,
   "id": "6518f8c1",
   "metadata": {},
   "outputs": [],
   "source": []
  }
 ],
 "metadata": {
  "kernelspec": {
   "display_name": "Python [conda env:root] *",
   "language": "python",
   "name": "conda-root-py"
  },
  "language_info": {
   "codemirror_mode": {
    "name": "ipython",
    "version": 3
   },
   "file_extension": ".py",
   "mimetype": "text/x-python",
   "name": "python",
   "nbconvert_exporter": "python",
   "pygments_lexer": "ipython3",
   "version": "3.7.11"
  }
 },
 "nbformat": 4,
 "nbformat_minor": 5
}
