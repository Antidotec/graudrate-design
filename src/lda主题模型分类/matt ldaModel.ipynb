{
 "cells": [
  {
   "cell_type": "code",
   "execution_count": 1,
   "id": "961a0ff5",
   "metadata": {},
   "outputs": [],
   "source": [
    "import logging\n",
    "import warnings\n",
    "from tqdm.notebook import tqdm\n",
    "warnings.filterwarnings(\"ignore\", category=DeprecationWarning) \n",
    "\n",
    "logging.basicConfig(format='%(asctime)s : %(levelname)s : %(message)s', level=logging.INFO)"
   ]
  },
  {
   "cell_type": "code",
   "execution_count": 3,
   "id": "7d3ffdfd",
   "metadata": {},
   "outputs": [
    {
     "data": {
      "application/vnd.jupyter.widget-view+json": {
       "model_id": "e61ecfa1bb894b44805422102018fc4e",
       "version_major": 2,
       "version_minor": 0
      },
      "text/plain": [
       "  0%|          | 0/139119 [00:00<?, ?it/s]"
      ]
     },
     "metadata": {},
     "output_type": "display_data"
    },
    {
     "name": "stdout",
     "output_type": "stream",
     "text": [
      "139119\n"
     ]
    }
   ],
   "source": [
    "#构建corpus\n",
    "import os\n",
    "path =\"D:/毕业设计/data/news_abstract/\"  # 待处理的数据\n",
    "fileList = os.listdir(path)\n",
    "docs = [] #文档集合\n",
    "for i in tqdm(range(len(fileList))):\n",
    "    file = fileList[i]\n",
    "    filePath = os.path.join(path, file)\n",
    "    f = open(filePath, encoding='utf-8')\n",
    "    content = f.read()\n",
    "    f.close()\n",
    "    docs.append(content)\n",
    "print(len(docs))"
   ]
  },
  {
   "cell_type": "code",
   "execution_count": 4,
   "id": "ef7026ff",
   "metadata": {},
   "outputs": [
    {
     "data": {
      "application/vnd.jupyter.widget-view+json": {
       "model_id": "4ec8b4086b3b428d8882fd549e5521c2",
       "version_major": 2,
       "version_minor": 0
      },
      "text/plain": [
       "  0%|          | 0/139119 [00:00<?, ?it/s]"
      ]
     },
     "metadata": {},
     "output_type": "display_data"
    },
    {
     "name": "stdout",
     "output_type": "stream",
     "text": [
      "recently september worked apple launch applecare theft loss offering provides coverage hardware service accidental damage theft loss well software technical support something believe continues growing need consumer come heel several device program helped launch globally last two year enable carrier cable partner offer access applecare service represents apple newest comprehensive option family device protection plan available store online select resellers like best buy\n"
     ]
    }
   ],
   "source": [
    "from nltk.tokenize import RegexpTokenizer\n",
    "from nltk.corpus import stopwords\n",
    "from nltk.stem import WordNetLemmatizer\n",
    "import string \n",
    "tokenizer = RegexpTokenizer(r'\\w+')\n",
    "def Preprocessing(text):\n",
    "    # 将文本转成小写\n",
    "    text = text.lower()\n",
    "    \n",
    "    # 删除我们的标点符号\n",
    "    for c in string.punctuation:\n",
    "        text = text.replace(c,\" \")\n",
    "        \n",
    "    # 分词\n",
    "    wordList = tokenizer.tokenize(text)\n",
    "    \n",
    "    # 去除停顿词\n",
    "    filtered = [w for w in wordList if w not in stopwords.words('english')]\n",
    "\n",
    "#     # stem \n",
    "#     ps = PorterStemmer()\n",
    "#     filtered = [ps.stem(w) for w in filtered]\n",
    "    \n",
    "    # 词形还原\n",
    "    wordnet_lemmatizer = WordNetLemmatizer()\n",
    "    filtered = [wordnet_lemmatizer.lemmatize(w) for w in filtered ]\n",
    "    \n",
    "    # Remove numbers, but not words that contain numbers.\n",
    "    filtered = [token for token in filtered if not token.isnumeric()]\n",
    "    \n",
    "    # Remove words that are only one character.\n",
    "    filtered = [token for token in filtered if len(token) > 1]\n",
    "    \n",
    "    return filtered\n",
    "\n",
    "for idx in tqdm(range(len(docs))):\n",
    "    docs[idx] = Preprocessing(docs[idx])\n",
    "corpus = [\" \".join(doc) for doc in docs]\n",
    "print(corpus[0])"
   ]
  },
  {
   "cell_type": "code",
   "execution_count": 5,
   "id": "5f21953f",
   "metadata": {},
   "outputs": [],
   "source": [
    "from sklearn.feature_extraction.text import TfidfTransformer\n",
    "from sklearn.feature_extraction.text import TfidfVectorizer\n",
    "\n",
    "vectorizer_tfidf = TfidfVectorizer(use_idf=True) # 构建tf-idf向量\n",
    "X_tfidf = vectorizer_tfidf.fit_transform(corpus)"
   ]
  },
  {
   "cell_type": "code",
   "execution_count": 6,
   "id": "cefe3596",
   "metadata": {},
   "outputs": [
    {
     "name": "stdout",
     "output_type": "stream",
     "text": [
      "Performing dimensionality reduction using LSA\n",
      "Explained variance of the SVD step: 51%\n",
      "(139119, 1000)\n"
     ]
    }
   ],
   "source": [
    "from sklearn.decomposition import TruncatedSVD\n",
    "from sklearn.preprocessing import Normalizer\n",
    "from sklearn.pipeline import make_pipeline\n",
    "\n",
    "print(\"Performing dimensionality reduction using LSA\")\n",
    "# Vectorizer results are normalized, which makes KMeans behave as\n",
    "# spherical k-means for better results. Since LSA/SVD results are\n",
    "# not normalized, we have to redo the normalization.\n",
    "svd = TruncatedSVD(1000)\n",
    "normalizer = Normalizer(copy=False)\n",
    "lsa = make_pipeline(svd, normalizer)\n",
    "\n",
    "X_tfidf_lsa = lsa.fit_transform(X_tfidf)\n",
    "\n",
    "explained_variance = svd.explained_variance_ratio_.sum()\n",
    "print(\"Explained variance of the SVD step: {}%\".format(\n",
    "    int(explained_variance * 100)))\n",
    "\n",
    "print(X_tfidf_lsa.shape)"
   ]
  },
  {
   "cell_type": "code",
   "execution_count": 7,
   "id": "ebd39617",
   "metadata": {},
   "outputs": [
    {
     "name": "stderr",
     "output_type": "stream",
     "text": [
      "D:\\Anaconda3\\lib\\site-packages\\sklearn\\cluster\\_kmeans.py:1044: UserWarning: MiniBatchKMeans is known to have a memory leak on Windows with MKL, when there are less chunks than available threads. You can prevent it by setting batch_size >= 2048 or by setting the environment variable OMP_NUM_THREADS=4\n",
      "  \"MiniBatchKMeans is known to have a memory leak on \"\n"
     ]
    }
   ],
   "source": [
    "from sklearn.cluster import KMeans\n",
    "from sklearn.cluster import MiniBatchKMeans\n",
    "# 降维，minbatch? 2*2 = 4种\n",
    "minikm_X_tfidf_lsa = MiniBatchKMeans(n_clusters=10, init='k-means++', n_init=1, init_size=1000, batch_size=1000, verbose=False)\n",
    "minikm_X_tfidf_lsa.fit(X_tfidf_lsa)\n",
    "\n",
    "minikm_X_tfidf = MiniBatchKMeans(n_clusters=10, init='k-means++', n_init=1, init_size=1000, batch_size=1000, verbose=False)\n",
    "minikm_X_tfidf.fit(X_tfidf)\n",
    "\n",
    "km = KMeans(n_clusters=10, init='k-means++', max_iter=100, n_init=1, verbose=False)\n",
    "km_X_tfidf_lsa = km.fit(X_tfidf_lsa)\n",
    "\n",
    "km = KMeans(n_clusters=10, init='k-means++', max_iter=100, n_init=1, verbose=False)\n",
    "km_X_tfidf = km.fit(X_tfidf)"
   ]
  },
  {
   "cell_type": "code",
   "execution_count": 8,
   "id": "1aa92123",
   "metadata": {
    "scrolled": true
   },
   "outputs": [
    {
     "name": "stdout",
     "output_type": "stream",
     "text": [
      "Top terms per cluster:\n",
      "Cluster 0: aws service data cloud please new amazon make use like\n",
      "Cluster 1: deal amazon price prime best offering time today day sale\n",
      "Cluster 2: stock share market quarter nasdaq earnings amd company inc investor\n",
      "Cluster 3: please blocker proceeding blocked frequently happening forum happen ensure feedback\n",
      "Cluster 4: apple iphone new app pro watch io ipad store feature\n",
      "Cluster 5: newsletter news intersect coindesk inner deeply crypto commentary miss sunday\n",
      "Cluster 6: sec gov declare downloading traffic practice information data including best\n",
      "Cluster 7: tv show amazon series apple alexa streaming new film video\n",
      "Cluster 8: purchase rating price average traded estimated stock portfolio holding due\n",
      "Cluster 9: amazon company said bezos year business new space billion million\n"
     ]
    },
    {
     "name": "stderr",
     "output_type": "stream",
     "text": [
      "D:\\Anaconda3\\lib\\site-packages\\sklearn\\utils\\deprecation.py:87: FutureWarning: Function get_feature_names is deprecated; get_feature_names is deprecated in 1.0 and will be removed in 1.2. Please use get_feature_names_out instead.\n",
      "  warnings.warn(msg, category=FutureWarning)\n"
     ]
    }
   ],
   "source": [
    "# minikm-tfidf-lsa\n",
    "print(\"Top terms per cluster:\")\n",
    "original_space_centroids = svd.inverse_transform(minikm_X_tfidf_lsa.cluster_centers_)\n",
    "order_centroids = original_space_centroids.argsort()[:, ::-1]\n",
    "terms = vectorizer_tfidf.get_feature_names()\n",
    "\n",
    "for i in range(10):\n",
    "    print(\"Cluster %d:\" % i, end='')\n",
    "    for ind in order_centroids[i, :10]:\n",
    "        print(' %s' % terms[ind], end='')\n",
    "    print()"
   ]
  },
  {
   "cell_type": "code",
   "execution_count": 15,
   "id": "0b4d7398",
   "metadata": {},
   "outputs": [
    {
     "name": "stdout",
     "output_type": "stream",
     "text": [
      "Silhouette Coefficient: 0.059\n",
      " Davies-Bouldin Index: 5.640\n",
      "----------------------------------------------------------------\n",
      "Silhouette Coefficient: 0.044\n",
      " Davies-Bouldin Index: 5.792\n",
      "----------------------------------------------------------------\n"
     ]
    }
   ],
   "source": [
    "#这里要重新处理一下，没有降维过后的数据是稀疏的，无法进行后两个指标的评价\n",
    "from sklearn import metrics\n",
    "\n",
    "\n",
    "X = X_tfidf_lsa\n",
    "for index, method in enumerate([minikm_X_tfidf_lsa,km_X_tfidf_lsa]):\n",
    "    print(\"Silhouette Coefficient: %0.3f\"\n",
    "          % metrics.silhouette_score(X, method.labels_, metric='euclidean'))\n",
    "    print(\" Davies-Bouldin Index: %0.3f\"\n",
    "          % metrics.davies_bouldin_score(X, method.labels_))\n",
    "\n",
    "   \n",
    "    print(\"----------------------------------------------------------------\")\n"
   ]
  },
  {
   "cell_type": "code",
   "execution_count": 12,
   "id": "e54f53a7",
   "metadata": {},
   "outputs": [
    {
     "name": "stdout",
     "output_type": "stream",
     "text": [
      "Top terms per cluster:\n",
      "Cluster 0: deal amazon price prime best offering today shipped time day\n",
      "Cluster 1: app apple io store apps developer user update beta new\n",
      "Cluster 2: please blocker proceeding blocked frequently happening forum ensure happen javascript\n",
      "Cluster 3: purchase stock price traded portfolio average estimated holding due impact\n",
      "Cluster 4: new amazon one make get like game please tv series\n",
      "Cluster 5: apple iphone new pro ipad watch macbook mac model year\n",
      "Cluster 6: stock share market quarter billion company year earnings nasdaq revenue\n",
      "Cluster 7: newsletter rating news daily intersect coindesk inner deeply crypto commentary\n",
      "Cluster 8: sec gov declare downloading traffic practice information data including best\n",
      "Cluster 9: amazon company said service bezos business aws new customer year\n"
     ]
    },
    {
     "name": "stderr",
     "output_type": "stream",
     "text": [
      "D:\\Anaconda3\\lib\\site-packages\\sklearn\\utils\\deprecation.py:87: FutureWarning: Function get_feature_names is deprecated; get_feature_names is deprecated in 1.0 and will be removed in 1.2. Please use get_feature_names_out instead.\n",
      "  warnings.warn(msg, category=FutureWarning)\n"
     ]
    }
   ],
   "source": [
    "# minikm-tfidf-lsa\n",
    "print(\"Top terms per cluster:\")\n",
    "original_space_centroids = svd.inverse_transform(minikm_X_tfidf_lsa.cluster_centers_)\n",
    "order_centroids = original_space_centroids.argsort()[:, ::-1]\n",
    "terms = vectorizer_tfidf.get_feature_names()\n",
    "\n",
    "for i in range(10):\n",
    "    print(\"Cluster %d:\" % i, end='')\n",
    "    for ind in order_centroids[i, :10]:\n",
    "        print(' %s' % terms[ind], end='')\n",
    "    print()\n"
   ]
  },
  {
   "cell_type": "code",
   "execution_count": 32,
   "id": "0e381925",
   "metadata": {},
   "outputs": [
    {
     "name": "stdout",
     "output_type": "stream",
     "text": [
      "Cluster distribution:\n",
      "{9: 7143, 4: 510, 0: 127, 3: 1250, 2: 137, 8: 94, 7: 176, 1: 137, 5: 220, 6: 206}\n",
      "6949.1970685141\n"
     ]
    }
   ],
   "source": [
    "result = list(minikm_X_tfidf.predict(X_tfidf))\n",
    "print ('Cluster distribution:')\n",
    "print (dict([(i, result.count(i)) for i in result]))\n",
    "print(-minikm_X_tfidf.score(X_tfidf))"
   ]
  },
  {
   "cell_type": "code",
   "execution_count": 13,
   "id": "ade27f49",
   "metadata": {},
   "outputs": [
    {
     "data": {
      "image/png": "[encoded data removed]",
      "text/plain": [
       "<Figure size 432x288 with 1 Axes>"
      ]
     },
     "metadata": {
      "needs_background": "light"
     },
     "output_type": "display_data"
    }
   ],
   "source": [
    "import matplotlib.pyplot as plt\n",
    "def find_optimal_clusters(data, max_k):\n",
    "    iters = range(5, max_k+1, 2)\n",
    "    \n",
    "    sse = []\n",
    "    for k in iters:\n",
    "        sse.append(MiniBatchKMeans(n_clusters=k, init=\"k-means++\", init_size=1024, batch_size=2048, random_state=20).fit(data).inertia_)\n",
    "        \n",
    "    f, ax = plt.subplots(1, 1)\n",
    "    ax.plot(iters, sse, marker='o')\n",
    "    ax.set_xlabel('Cluster Centers')\n",
    "    ax.set_xticks(iters)\n",
    "    ax.set_xticklabels(iters)\n",
    "    ax.set_ylabel('SSE')\n",
    "    ax.set_title('SSE by Cluster Center Plot')\n",
    "    \n",
    "find_optimal_clusters(X_tfidf, 20)"
   ]
  },
  {
   "cell_type": "code",
   "execution_count": 8,
   "id": "6d6200f5",
   "metadata": {},
   "outputs": [
    {
     "name": "stderr",
     "output_type": "stream",
     "text": [
      "2022-04-25 18:45:48,165 : INFO : collecting all words and their counts\n",
      "2022-04-25 18:45:48,178 : INFO : PROGRESS: at sentence #0, processed 0 words and 0 word types\n",
      "2022-04-25 18:45:49,220 : INFO : PROGRESS: at sentence #10000, processed 526415 words and 338228 word types\n",
      "2022-04-25 18:45:50,292 : INFO : PROGRESS: at sentence #20000, processed 1049374 words and 585196 word types\n",
      "2022-04-25 18:45:51,325 : INFO : PROGRESS: at sentence #30000, processed 1576489 words and 800600 word types\n",
      "2022-04-25 18:45:52,461 : INFO : PROGRESS: at sentence #40000, processed 2102844 words and 996469 word types\n",
      "2022-04-25 18:45:53,738 : INFO : PROGRESS: at sentence #50000, processed 2630374 words and 1176505 word types\n",
      "2022-04-25 18:45:54,929 : INFO : PROGRESS: at sentence #60000, processed 3156358 words and 1347368 word types\n",
      "2022-04-25 18:45:56,451 : INFO : PROGRESS: at sentence #70000, processed 3681923 words and 1505667 word types\n",
      "2022-04-25 18:45:57,565 : INFO : PROGRESS: at sentence #80000, processed 4209952 words and 1657250 word types\n",
      "2022-04-25 18:45:58,689 : INFO : PROGRESS: at sentence #90000, processed 4740132 words and 1807473 word types\n",
      "2022-04-25 18:45:59,792 : INFO : PROGRESS: at sentence #100000, processed 5268940 words and 1949445 word types\n",
      "2022-04-25 18:46:00,899 : INFO : PROGRESS: at sentence #110000, processed 5794402 words and 2085067 word types\n",
      "2022-04-25 18:46:01,896 : INFO : PROGRESS: at sentence #120000, processed 6319479 words and 2215658 word types\n",
      "2022-04-25 18:46:03,027 : INFO : PROGRESS: at sentence #130000, processed 6845826 words and 2339413 word types\n",
      "2022-04-25 18:46:04,143 : INFO : collected 2449536 word types from a corpus of 7325007 words (unigram + bigrams) and 139119 sentences\n",
      "2022-04-25 18:46:04,144 : INFO : using 2449536 counts as vocab in Phrases<0 vocab, min_count=20, threshold=10.0, max_vocab_size=40000000>\n"
     ]
    },
    {
     "data": {
      "application/vnd.jupyter.widget-view+json": {
       "model_id": "a8f3823b440d441a91f246125f1ebf6e",
       "version_major": 2,
       "version_minor": 0
      },
      "text/plain": [
       "  0%|          | 0/139119 [00:00<?, ?it/s]"
      ]
     },
     "metadata": {},
     "output_type": "display_data"
    }
   ],
   "source": [
    "# Compute bigrams.\n",
    "from gensim.models import Phrases\n",
    "\n",
    "# Add bigrams and trigrams to docs (only ones that appear 20 times or more).\n",
    "bigram = Phrases(docs, min_count=20)\n",
    "for idx in tqdm(range(len(docs))):\n",
    "    for token in bigram[docs[idx]]:\n",
    "        if '_' in token:\n",
    "            # Token is a bigram, add to document.\n",
    "            docs[idx].append(token)\n"
   ]
  },
  {
   "cell_type": "code",
   "execution_count": 9,
   "id": "1ed39590",
   "metadata": {},
   "outputs": [
    {
     "name": "stderr",
     "output_type": "stream",
     "text": [
      "2022-04-25 18:46:42,955 : INFO : adding document #0 to Dictionary(0 unique tokens: [])\n",
      "2022-04-25 18:46:44,348 : INFO : adding document #10000 to Dictionary(35922 unique tokens: ['access', 'accidental', 'accidental_damage', 'apple', 'applecare']...)\n",
      "2022-04-25 18:46:45,285 : INFO : adding document #20000 to Dictionary(47341 unique tokens: ['access', 'accidental', 'accidental_damage', 'apple', 'applecare']...)\n",
      "2022-04-25 18:46:46,158 : INFO : adding document #30000 to Dictionary(55553 unique tokens: ['access', 'accidental', 'accidental_damage', 'apple', 'applecare']...)\n",
      "2022-04-25 18:46:47,037 : INFO : adding document #40000 to Dictionary(62351 unique tokens: ['access', 'accidental', 'accidental_damage', 'apple', 'applecare']...)\n",
      "2022-04-25 18:46:47,897 : INFO : adding document #50000 to Dictionary(68020 unique tokens: ['access', 'accidental', 'accidental_damage', 'apple', 'applecare']...)\n",
      "2022-04-25 18:46:48,774 : INFO : adding document #60000 to Dictionary(73418 unique tokens: ['access', 'accidental', 'accidental_damage', 'apple', 'applecare']...)\n",
      "2022-04-25 18:46:49,668 : INFO : adding document #70000 to Dictionary(77996 unique tokens: ['access', 'accidental', 'accidental_damage', 'apple', 'applecare']...)\n",
      "2022-04-25 18:46:50,621 : INFO : adding document #80000 to Dictionary(82251 unique tokens: ['access', 'accidental', 'accidental_damage', 'apple', 'applecare']...)\n",
      "2022-04-25 18:46:51,557 : INFO : adding document #90000 to Dictionary(86929 unique tokens: ['access', 'accidental', 'accidental_damage', 'apple', 'applecare']...)\n",
      "2022-04-25 18:46:52,470 : INFO : adding document #100000 to Dictionary(91058 unique tokens: ['access', 'accidental', 'accidental_damage', 'apple', 'applecare']...)\n",
      "2022-04-25 18:46:53,725 : INFO : adding document #110000 to Dictionary(94713 unique tokens: ['access', 'accidental', 'accidental_damage', 'apple', 'applecare']...)\n",
      "2022-04-25 18:46:54,542 : INFO : adding document #120000 to Dictionary(98604 unique tokens: ['access', 'accidental', 'accidental_damage', 'apple', 'applecare']...)\n",
      "2022-04-25 18:46:55,394 : INFO : adding document #130000 to Dictionary(101746 unique tokens: ['access', 'accidental', 'accidental_damage', 'apple', 'applecare']...)\n",
      "2022-04-25 18:46:56,140 : INFO : built Dictionary(104587 unique tokens: ['access', 'accidental', 'accidental_damage', 'apple', 'applecare']...) from 139119 documents (total 8378531 corpus positions)\n",
      "2022-04-25 18:46:56,418 : INFO : discarding 82103 tokens: [('17pm', 3), ('penis', 19), ('shephard', 19), ('trended', 7), ('diameter', 15), ('43f', 6), ('budrul', 6), ('chukrut', 6), ('2020lead', 4), ('2020misleading', 2)]...\n",
      "2022-04-25 18:46:56,418 : INFO : keeping 22484 tokens which were in no less than 20 and no more than 69559 (=50.0%) documents\n",
      "2022-04-25 18:46:56,469 : INFO : resulting dictionary: Dictionary(22484 unique tokens: ['access', 'accidental', 'accidental_damage', 'apple', 'applecare']...)\n"
     ]
    }
   ],
   "source": [
    "# Remove rare and common tokens.\n",
    "from gensim.corpora import Dictionary\n",
    "\n",
    "# Create a dictionary representation of the documents.\n",
    "dictionary = Dictionary(docs)\n",
    "# Filter out words that occur less than 20 documents, or more than 50% of the documents.\n",
    "dictionary.filter_extremes(no_below=20, no_above=0.5)"
   ]
  },
  {
   "cell_type": "code",
   "execution_count": 10,
   "id": "8d760e50",
   "metadata": {},
   "outputs": [],
   "source": [
    "# Bag-of-words representation of the documents.\n",
    "corpus = [dictionary.doc2bow(doc) for doc in docs]"
   ]
  },
  {
   "cell_type": "code",
   "execution_count": 22,
   "id": "62971ab7",
   "metadata": {},
   "outputs": [
    {
     "name": "stdout",
     "output_type": "stream",
     "text": [
      "Number of unique tokens: 22484\n",
      "Number of documents: 139119\n"
     ]
    }
   ],
   "source": [
    "print('Number of unique tokens: %d' % len(dictionary))\n",
    "print('Number of documents: %d' % len(corpus))"
   ]
  },
  {
   "cell_type": "code",
   "execution_count": 10,
   "id": "20e2f862",
   "metadata": {},
   "outputs": [
    {
     "name": "stderr",
     "output_type": "stream",
     "text": [
      "2022-04-23 10:11:56,636 : INFO : serializing temporary corpus to C:\\Users\\huiye\\AppData\\Local\\Temp\\9abc19_corpus.txt\n",
      "2022-04-23 10:11:57,134 : INFO : converting temporary corpus to MALLET format with D:/毕业设计/dependencies/mallet-2.0.8/bin/mallet import-file --preserve-case --keep-sequence --remove-stopwords --token-regex \"\\S+\" --input C:\\Users\\huiye\\AppData\\Local\\Temp\\9abc19_corpus.txt --output C:\\Users\\huiye\\AppData\\Local\\Temp\\9abc19_corpus.mallet\n",
      "2022-04-23 10:12:01,578 : INFO : training MALLET LDA with D:/毕业设计/dependencies/mallet-2.0.8/bin/mallet train-topics --input C:\\Users\\huiye\\AppData\\Local\\Temp\\9abc19_corpus.mallet --num-topics 4  --alpha 50 --optimize-interval 0 --num-threads 4 --output-state C:\\Users\\huiye\\AppData\\Local\\Temp\\9abc19_state.mallet.gz --output-doc-topics C:\\Users\\huiye\\AppData\\Local\\Temp\\9abc19_doctopics.txt --output-topic-keys C:\\Users\\huiye\\AppData\\Local\\Temp\\9abc19_topickeys.txt --num-iterations 1000 --inferencer-filename C:\\Users\\huiye\\AppData\\Local\\Temp\\9abc19_inferencer.mallet --doc-topics-threshold 0.0  --random-seed 0\n",
      "2022-04-23 10:12:51,740 : INFO : loading assigned topics from C:\\Users\\huiye\\AppData\\Local\\Temp\\9abc19_state.mallet.gz\n"
     ]
    }
   ],
   "source": [
    "#无用了\n",
    "import gensim\n",
    "import time\n",
    "# Set training parameters.\n",
    "num_topics = 4\n",
    "chunksize = 2000\n",
    "passes = 20\n",
    "iterations = 400\n",
    "eval_every = None  # Don't evaluate model perplexity, takes too much time.\n",
    "\n",
    "os.environ.update({'MALLET_HOME': r'D:/毕业设计/dependencies/mallet-2.0.8'})\n",
    "mallet_path = 'D:/毕业设计/dependencies/mallet-2.0.8/bin/mallet' # update this path\n",
    "ldamallet = gensim.models.wrappers.LdaMallet(mallet_path, corpus=corpus, num_topics=num_topics, id2word = dictionary)"
   ]
  },
  {
   "cell_type": "code",
   "execution_count": null,
   "id": "ab60c06d",
   "metadata": {},
   "outputs": [
    {
     "name": "stderr",
     "output_type": "stream",
     "text": [
      "2022-04-25 19:00:51,199 : INFO : serializing temporary corpus to C:\\Users\\huiye\\AppData\\Local\\Temp\\e69ab7_corpus.txt\n",
      "2022-04-25 19:00:58,218 : INFO : converting temporary corpus to MALLET format with D:/毕业设计/dependencies/mallet-2.0.8/bin/mallet import-file --preserve-case --keep-sequence --remove-stopwords --token-regex \"\\S+\" --input C:\\Users\\huiye\\AppData\\Local\\Temp\\e69ab7_corpus.txt --output C:\\Users\\huiye\\AppData\\Local\\Temp\\e69ab7_corpus.mallet\n",
      "2022-04-25 19:01:16,459 : INFO : training MALLET LDA with D:/毕业设计/dependencies/mallet-2.0.8/bin/mallet train-topics --input C:\\Users\\huiye\\AppData\\Local\\Temp\\e69ab7_corpus.mallet --num-topics 4  --alpha 50 --optimize-interval 0 --num-threads 4 --output-state C:\\Users\\huiye\\AppData\\Local\\Temp\\e69ab7_state.mallet.gz --output-doc-topics C:\\Users\\huiye\\AppData\\Local\\Temp\\e69ab7_doctopics.txt --output-topic-keys C:\\Users\\huiye\\AppData\\Local\\Temp\\e69ab7_topickeys.txt --num-iterations 1000 --inferencer-filename C:\\Users\\huiye\\AppData\\Local\\Temp\\e69ab7_inferencer.mallet --doc-topics-threshold 0.0  --random-seed 0\n",
      "2022-04-25 19:06:00,152 : INFO : loading assigned topics from C:\\Users\\huiye\\AppData\\Local\\Temp\\e69ab7_state.mallet.gz\n",
      "2022-04-25 19:06:18,854 : INFO : using ParallelWordOccurrenceAccumulator(processes=7, batch_size=64) to estimate probabilities from sliding windows\n",
      "2022-04-25 19:06:39,383 : INFO : 7 accumulators retrieved from output queue\n",
      "2022-04-25 19:06:39,595 : INFO : accumulated word occurrence stats for 310811 virtual documents\n",
      "2022-04-25 19:06:39,751 : INFO : serializing temporary corpus to C:\\Users\\huiye\\AppData\\Local\\Temp\\810158_corpus.txt\n",
      "2022-04-25 19:06:46,597 : INFO : converting temporary corpus to MALLET format with D:/毕业设计/dependencies/mallet-2.0.8/bin/mallet import-file --preserve-case --keep-sequence --remove-stopwords --token-regex \"\\S+\" --input C:\\Users\\huiye\\AppData\\Local\\Temp\\810158_corpus.txt --output C:\\Users\\huiye\\AppData\\Local\\Temp\\810158_corpus.mallet\n",
      "2022-04-25 19:07:04,399 : INFO : training MALLET LDA with D:/毕业设计/dependencies/mallet-2.0.8/bin/mallet train-topics --input C:\\Users\\huiye\\AppData\\Local\\Temp\\810158_corpus.mallet --num-topics 6  --alpha 50 --optimize-interval 0 --num-threads 4 --output-state C:\\Users\\huiye\\AppData\\Local\\Temp\\810158_state.mallet.gz --output-doc-topics C:\\Users\\huiye\\AppData\\Local\\Temp\\810158_doctopics.txt --output-topic-keys C:\\Users\\huiye\\AppData\\Local\\Temp\\810158_topickeys.txt --num-iterations 1000 --inferencer-filename C:\\Users\\huiye\\AppData\\Local\\Temp\\810158_inferencer.mallet --doc-topics-threshold 0.0  --random-seed 0\n",
      "2022-04-25 19:11:15,375 : INFO : loading assigned topics from C:\\Users\\huiye\\AppData\\Local\\Temp\\810158_state.mallet.gz\n",
      "2022-04-25 19:11:36,943 : INFO : using ParallelWordOccurrenceAccumulator(processes=7, batch_size=64) to estimate probabilities from sliding windows\n",
      "2022-04-25 19:11:55,446 : INFO : 2040 batches submitted to accumulate stats from 130560 documents (-6286007 virtual)\n",
      "2022-04-25 19:11:56,251 : INFO : 7 accumulators retrieved from output queue\n",
      "2022-04-25 19:11:56,284 : INFO : accumulated word occurrence stats for 313321 virtual documents\n",
      "2022-04-25 19:11:56,526 : INFO : serializing temporary corpus to C:\\Users\\huiye\\AppData\\Local\\Temp\\610abc_corpus.txt\n",
      "2022-04-25 19:12:03,642 : INFO : converting temporary corpus to MALLET format with D:/毕业设计/dependencies/mallet-2.0.8/bin/mallet import-file --preserve-case --keep-sequence --remove-stopwords --token-regex \"\\S+\" --input C:\\Users\\huiye\\AppData\\Local\\Temp\\610abc_corpus.txt --output C:\\Users\\huiye\\AppData\\Local\\Temp\\610abc_corpus.mallet\n",
      "2022-04-25 19:12:22,017 : INFO : training MALLET LDA with D:/毕业设计/dependencies/mallet-2.0.8/bin/mallet train-topics --input C:\\Users\\huiye\\AppData\\Local\\Temp\\610abc_corpus.mallet --num-topics 8  --alpha 50 --optimize-interval 0 --num-threads 4 --output-state C:\\Users\\huiye\\AppData\\Local\\Temp\\610abc_state.mallet.gz --output-doc-topics C:\\Users\\huiye\\AppData\\Local\\Temp\\610abc_doctopics.txt --output-topic-keys C:\\Users\\huiye\\AppData\\Local\\Temp\\610abc_topickeys.txt --num-iterations 1000 --inferencer-filename C:\\Users\\huiye\\AppData\\Local\\Temp\\610abc_inferencer.mallet --doc-topics-threshold 0.0  --random-seed 0\n",
      "2022-04-25 19:16:27,487 : INFO : loading assigned topics from C:\\Users\\huiye\\AppData\\Local\\Temp\\610abc_state.mallet.gz\n",
      "2022-04-25 19:16:47,586 : INFO : using ParallelWordOccurrenceAccumulator(processes=7, batch_size=64) to estimate probabilities from sliding windows\n",
      "2022-04-25 19:17:09,307 : INFO : 7 accumulators retrieved from output queue\n",
      "2022-04-25 19:17:09,350 : INFO : accumulated word occurrence stats for 314344 virtual documents\n",
      "2022-04-25 19:17:09,636 : INFO : serializing temporary corpus to C:\\Users\\huiye\\AppData\\Local\\Temp\\811b8d_corpus.txt\n",
      "2022-04-25 19:17:16,833 : INFO : converting temporary corpus to MALLET format with D:/毕业设计/dependencies/mallet-2.0.8/bin/mallet import-file --preserve-case --keep-sequence --remove-stopwords --token-regex \"\\S+\" --input C:\\Users\\huiye\\AppData\\Local\\Temp\\811b8d_corpus.txt --output C:\\Users\\huiye\\AppData\\Local\\Temp\\811b8d_corpus.mallet\n",
      "2022-04-25 19:17:35,241 : INFO : training MALLET LDA with D:/毕业设计/dependencies/mallet-2.0.8/bin/mallet train-topics --input C:\\Users\\huiye\\AppData\\Local\\Temp\\811b8d_corpus.mallet --num-topics 10  --alpha 50 --optimize-interval 0 --num-threads 4 --output-state C:\\Users\\huiye\\AppData\\Local\\Temp\\811b8d_state.mallet.gz --output-doc-topics C:\\Users\\huiye\\AppData\\Local\\Temp\\811b8d_doctopics.txt --output-topic-keys C:\\Users\\huiye\\AppData\\Local\\Temp\\811b8d_topickeys.txt --num-iterations 1000 --inferencer-filename C:\\Users\\huiye\\AppData\\Local\\Temp\\811b8d_inferencer.mallet --doc-topics-threshold 0.0  --random-seed 0\n",
      "2022-04-25 19:21:56,535 : INFO : loading assigned topics from C:\\Users\\huiye\\AppData\\Local\\Temp\\811b8d_state.mallet.gz\n",
      "2022-04-25 19:22:15,889 : INFO : using ParallelWordOccurrenceAccumulator(processes=7, batch_size=64) to estimate probabilities from sliding windows\n",
      "2022-04-25 19:22:41,512 : INFO : 2049 batches submitted to accumulate stats from 131136 documents (-6340285 virtual)\n",
      "2022-04-25 19:22:42,830 : INFO : 7 accumulators retrieved from output queue\n",
      "2022-04-25 19:22:42,872 : INFO : accumulated word occurrence stats for 314109 virtual documents\n",
      "2022-04-25 19:22:43,209 : INFO : serializing temporary corpus to C:\\Users\\huiye\\AppData\\Local\\Temp\\fc6422_corpus.txt\n",
      "2022-04-25 19:22:50,216 : INFO : converting temporary corpus to MALLET format with D:/毕业设计/dependencies/mallet-2.0.8/bin/mallet import-file --preserve-case --keep-sequence --remove-stopwords --token-regex \"\\S+\" --input C:\\Users\\huiye\\AppData\\Local\\Temp\\fc6422_corpus.txt --output C:\\Users\\huiye\\AppData\\Local\\Temp\\fc6422_corpus.mallet\n",
      "2022-04-25 19:23:08,256 : INFO : training MALLET LDA with D:/毕业设计/dependencies/mallet-2.0.8/bin/mallet train-topics --input C:\\Users\\huiye\\AppData\\Local\\Temp\\fc6422_corpus.mallet --num-topics 12  --alpha 50 --optimize-interval 0 --num-threads 4 --output-state C:\\Users\\huiye\\AppData\\Local\\Temp\\fc6422_state.mallet.gz --output-doc-topics C:\\Users\\huiye\\AppData\\Local\\Temp\\fc6422_doctopics.txt --output-topic-keys C:\\Users\\huiye\\AppData\\Local\\Temp\\fc6422_topickeys.txt --num-iterations 1000 --inferencer-filename C:\\Users\\huiye\\AppData\\Local\\Temp\\fc6422_inferencer.mallet --doc-topics-threshold 0.0  --random-seed 0\n",
      "2022-04-25 19:27:36,858 : INFO : loading assigned topics from C:\\Users\\huiye\\AppData\\Local\\Temp\\fc6422_state.mallet.gz\n",
      "2022-04-25 19:27:56,635 : INFO : using ParallelWordOccurrenceAccumulator(processes=7, batch_size=64) to estimate probabilities from sliding windows\n",
      "2022-04-25 19:28:26,043 : INFO : 2056 batches submitted to accumulate stats from 131584 documents (-6373639 virtual)\n",
      "2022-04-25 19:28:27,724 : INFO : 7 accumulators retrieved from output queue\n",
      "2022-04-25 19:28:27,791 : INFO : accumulated word occurrence stats for 314607 virtual documents\n",
      "2022-04-25 19:28:28,198 : INFO : serializing temporary corpus to C:\\Users\\huiye\\AppData\\Local\\Temp\\6be460_corpus.txt\n",
      "2022-04-25 19:28:35,200 : INFO : converting temporary corpus to MALLET format with D:/毕业设计/dependencies/mallet-2.0.8/bin/mallet import-file --preserve-case --keep-sequence --remove-stopwords --token-regex \"\\S+\" --input C:\\Users\\huiye\\AppData\\Local\\Temp\\6be460_corpus.txt --output C:\\Users\\huiye\\AppData\\Local\\Temp\\6be460_corpus.mallet\n"
     ]
    },
    {
     "name": "stderr",
     "output_type": "stream",
     "text": [
      "2022-04-25 19:28:53,424 : INFO : training MALLET LDA with D:/毕业设计/dependencies/mallet-2.0.8/bin/mallet train-topics --input C:\\Users\\huiye\\AppData\\Local\\Temp\\6be460_corpus.mallet --num-topics 14  --alpha 50 --optimize-interval 0 --num-threads 4 --output-state C:\\Users\\huiye\\AppData\\Local\\Temp\\6be460_state.mallet.gz --output-doc-topics C:\\Users\\huiye\\AppData\\Local\\Temp\\6be460_doctopics.txt --output-topic-keys C:\\Users\\huiye\\AppData\\Local\\Temp\\6be460_topickeys.txt --num-iterations 1000 --inferencer-filename C:\\Users\\huiye\\AppData\\Local\\Temp\\6be460_inferencer.mallet --doc-topics-threshold 0.0  --random-seed 0\n",
      "2022-04-25 19:33:38,906 : INFO : loading assigned topics from C:\\Users\\huiye\\AppData\\Local\\Temp\\6be460_state.mallet.gz\n",
      "2022-04-25 19:33:58,989 : INFO : using ParallelWordOccurrenceAccumulator(processes=7, batch_size=64) to estimate probabilities from sliding windows\n",
      "2022-04-25 19:34:32,802 : INFO : 7 accumulators retrieved from output queue\n",
      "2022-04-25 19:34:32,865 : INFO : accumulated word occurrence stats for 314882 virtual documents\n",
      "2022-04-25 19:34:33,334 : INFO : serializing temporary corpus to C:\\Users\\huiye\\AppData\\Local\\Temp\\95296b_corpus.txt\n",
      "2022-04-25 19:34:40,388 : INFO : converting temporary corpus to MALLET format with D:/毕业设计/dependencies/mallet-2.0.8/bin/mallet import-file --preserve-case --keep-sequence --remove-stopwords --token-regex \"\\S+\" --input C:\\Users\\huiye\\AppData\\Local\\Temp\\95296b_corpus.txt --output C:\\Users\\huiye\\AppData\\Local\\Temp\\95296b_corpus.mallet\n",
      "2022-04-25 19:34:58,678 : INFO : training MALLET LDA with D:/毕业设计/dependencies/mallet-2.0.8/bin/mallet train-topics --input C:\\Users\\huiye\\AppData\\Local\\Temp\\95296b_corpus.mallet --num-topics 16  --alpha 50 --optimize-interval 0 --num-threads 4 --output-state C:\\Users\\huiye\\AppData\\Local\\Temp\\95296b_state.mallet.gz --output-doc-topics C:\\Users\\huiye\\AppData\\Local\\Temp\\95296b_doctopics.txt --output-topic-keys C:\\Users\\huiye\\AppData\\Local\\Temp\\95296b_topickeys.txt --num-iterations 1000 --inferencer-filename C:\\Users\\huiye\\AppData\\Local\\Temp\\95296b_inferencer.mallet --doc-topics-threshold 0.0  --random-seed 0\n",
      "2022-04-25 19:40:46,484 : INFO : loading assigned topics from C:\\Users\\huiye\\AppData\\Local\\Temp\\95296b_state.mallet.gz\n",
      "2022-04-25 19:41:06,276 : INFO : using ParallelWordOccurrenceAccumulator(processes=7, batch_size=64) to estimate probabilities from sliding windows\n",
      "2022-04-25 19:41:41,540 : INFO : 2064 batches submitted to accumulate stats from 132096 documents (-6420671 virtual)\n",
      "2022-04-25 19:41:43,432 : INFO : 7 accumulators retrieved from output queue\n",
      "2022-04-25 19:41:43,516 : INFO : accumulated word occurrence stats for 315116 virtual documents\n",
      "2022-04-25 19:41:44,102 : INFO : serializing temporary corpus to C:\\Users\\huiye\\AppData\\Local\\Temp\\5a2fc1_corpus.txt\n",
      "2022-04-25 19:41:51,435 : INFO : converting temporary corpus to MALLET format with D:/毕业设计/dependencies/mallet-2.0.8/bin/mallet import-file --preserve-case --keep-sequence --remove-stopwords --token-regex \"\\S+\" --input C:\\Users\\huiye\\AppData\\Local\\Temp\\5a2fc1_corpus.txt --output C:\\Users\\huiye\\AppData\\Local\\Temp\\5a2fc1_corpus.mallet\n",
      "2022-04-25 19:42:09,803 : INFO : training MALLET LDA with D:/毕业设计/dependencies/mallet-2.0.8/bin/mallet train-topics --input C:\\Users\\huiye\\AppData\\Local\\Temp\\5a2fc1_corpus.mallet --num-topics 18  --alpha 50 --optimize-interval 0 --num-threads 4 --output-state C:\\Users\\huiye\\AppData\\Local\\Temp\\5a2fc1_state.mallet.gz --output-doc-topics C:\\Users\\huiye\\AppData\\Local\\Temp\\5a2fc1_doctopics.txt --output-topic-keys C:\\Users\\huiye\\AppData\\Local\\Temp\\5a2fc1_topickeys.txt --num-iterations 1000 --inferencer-filename C:\\Users\\huiye\\AppData\\Local\\Temp\\5a2fc1_inferencer.mallet --doc-topics-threshold 0.0  --random-seed 0\n",
      "2022-04-25 19:48:02,991 : INFO : loading assigned topics from C:\\Users\\huiye\\AppData\\Local\\Temp\\5a2fc1_state.mallet.gz\n",
      "2022-04-25 19:48:22,951 : INFO : using ParallelWordOccurrenceAccumulator(processes=7, batch_size=64) to estimate probabilities from sliding windows\n",
      "2022-04-25 19:49:04,485 : INFO : 7 accumulators retrieved from output queue\n",
      "2022-04-25 19:49:04,587 : INFO : accumulated word occurrence stats for 315034 virtual documents\n",
      "2022-04-25 19:49:05,231 : INFO : serializing temporary corpus to C:\\Users\\huiye\\AppData\\Local\\Temp\\10a38b_corpus.txt\n",
      "2022-04-25 19:49:12,505 : INFO : converting temporary corpus to MALLET format with D:/毕业设计/dependencies/mallet-2.0.8/bin/mallet import-file --preserve-case --keep-sequence --remove-stopwords --token-regex \"\\S+\" --input C:\\Users\\huiye\\AppData\\Local\\Temp\\10a38b_corpus.txt --output C:\\Users\\huiye\\AppData\\Local\\Temp\\10a38b_corpus.mallet\n",
      "2022-04-25 19:49:31,459 : INFO : training MALLET LDA with D:/毕业设计/dependencies/mallet-2.0.8/bin/mallet train-topics --input C:\\Users\\huiye\\AppData\\Local\\Temp\\10a38b_corpus.mallet --num-topics 20  --alpha 50 --optimize-interval 0 --num-threads 4 --output-state C:\\Users\\huiye\\AppData\\Local\\Temp\\10a38b_state.mallet.gz --output-doc-topics C:\\Users\\huiye\\AppData\\Local\\Temp\\10a38b_doctopics.txt --output-topic-keys C:\\Users\\huiye\\AppData\\Local\\Temp\\10a38b_topickeys.txt --num-iterations 1000 --inferencer-filename C:\\Users\\huiye\\AppData\\Local\\Temp\\10a38b_inferencer.mallet --doc-topics-threshold 0.0  --random-seed 0\n"
     ]
    }
   ],
   "source": [
    "import gensim\n",
    "from gensim.models import CoherenceModel\n",
    "num_topics = 4\n",
    "chunksize = 2000\n",
    "passes = 20\n",
    "iterations = 400\n",
    "eval_every = None  # Don't evaluate model perplexity, takes too much time.\n",
    "os.environ.update({'MALLET_HOME': r'D:/毕业设计/dependencies/mallet-2.0.8'})\n",
    "mallet_path = 'D:/毕业设计/dependencies/mallet-2.0.8/bin/mallet' # update this path\n",
    "#迭代的方法求最优的主题数量\n",
    "def compute_coherence_values(dictionary, corpus, texts, limit, start=2, step=3):\n",
    "    \"\"\"\n",
    "    Compute c_v coherence for various number of topics\n",
    "\n",
    "    Parameters:\n",
    "    ----------\n",
    "    dictionary : Gensim dictionary\n",
    "    corpus : Gensim corpus\n",
    "    texts : List of input texts\n",
    "    limit : Max num of topics\n",
    "\n",
    "    Returns:\n",
    "    -------\n",
    "    model_list : List of LDA topic models\n",
    "    coherence_values : Coherence values corresponding to the LDA model with respective number of topics\n",
    "    \"\"\"\n",
    "    coherence_values = []\n",
    "    model_list = []\n",
    "    for num_topics in range(start, limit, step):\n",
    "        model = gensim.models.wrappers.LdaMallet(mallet_path, corpus=corpus, num_topics=num_topics, id2word=dictionary)\n",
    "        model_list.append(model)\n",
    "        coherencemodel = CoherenceModel(model=model, texts=texts, dictionary=dictionary, coherence='c_v')\n",
    "        coherence_values.append(coherencemodel.get_coherence())\n",
    "\n",
    "    return model_list, coherence_values\n",
    "model_list, coherence_values = compute_coherence_values(dictionary=dictionary, corpus=corpus, texts=docs, start=4, limit=30, step=2)"
   ]
  },
  {
   "cell_type": "code",
   "execution_count": 18,
   "id": "f7d0bebe",
   "metadata": {},
   "outputs": [
    {
     "name": "stdout",
     "output_type": "stream",
     "text": [
      "[0.4974949980606632, 0.5073471509466166, 0.550571053964901, 0.6050765517322579, 0.6121855726104608, 0.5802254489659047, 0.597558919486616, 0.6405275092466353, 0.6075123605162159, 0.650421151768174, 0.6476047200984949, 0.6388919373577777, 0.6195702750971473]\n"
     ]
    },
    {
     "data": {
      "image/png": "[encoded data removed]",
      "text/plain": [
       "<Figure size 432x288 with 1 Axes>"
      ]
     },
     "metadata": {
      "needs_background": "light"
     },
     "output_type": "display_data"
    }
   ],
   "source": [
    "#绘制coherence_values—n_topics图像\n",
    "import matplotlib.pyplot as plt\n",
    "print(coherence_values)\n",
    "limit=30; start=4; step=2;\n",
    "x = range(start, limit, step)\n",
    "plt.plot(x, coherence_values)\n",
    "plt.xlabel(\"Num Topics\")\n",
    "plt.ylabel(\"Coherence score\")\n",
    "plt.legend((\"coherence_values\"), loc='best')\n",
    "plt.show()"
   ]
  },
  {
   "cell_type": "code",
   "execution_count": 19,
   "id": "aaac3e4d",
   "metadata": {},
   "outputs": [
    {
     "name": "stderr",
     "output_type": "stream",
     "text": [
      "2022-04-25 20:34:36,580 : INFO : NumExpr defaulting to 8 threads.\n",
      "2022-04-25 20:34:39,092 : INFO : using serial LDA version on this node\n",
      "D:\\Anaconda3\\lib\\site-packages\\pyLDAvis\\_prepare.py:247: FutureWarning: In a future version of pandas all arguments of DataFrame.drop except for the argument 'labels' will be keyword-only\n",
      "  by='saliency', ascending=False).head(R).drop('saliency', 1)\n"
     ]
    }
   ],
   "source": [
    "#生成 html 图像\n",
    "import pyLDAvis.gensim_models\n",
    "from gensim.models.wrappers.ldamallet import malletmodel2ldamodel\n",
    "#将两个模型进行住转化\n",
    "vis_model = malletmodel2ldamodel(model_list[9])\n",
    "vis = pyLDAvis.gensim_models.prepare(vis_model, corpus, dictionary)\n",
    "pyLDAvis.save_html(vis, 'lda_mallet.html')"
   ]
  },
  {
   "cell_type": "code",
   "execution_count": 21,
   "id": "553b46b6",
   "metadata": {},
   "outputs": [
    {
     "name": "stderr",
     "output_type": "stream",
     "text": [
      "2022-04-25 20:37:28,885 : INFO : serializing temporary corpus to C:\\Users\\huiye\\AppData\\Local\\Temp\\34285_corpus.txt\n",
      "2022-04-25 20:37:35,953 : INFO : converting temporary corpus to MALLET format with D:/毕业设计/dependencies/mallet-2.0.8/bin/mallet import-file --preserve-case --keep-sequence --remove-stopwords --token-regex \"\\S+\" --input C:\\Users\\huiye\\AppData\\Local\\Temp\\34285_corpus.txt --output C:\\Users\\huiye\\AppData\\Local\\Temp\\34285_corpus.mallet.infer --use-pipe-from C:\\Users\\huiye\\AppData\\Local\\Temp\\34285_corpus.mallet\n",
      "2022-04-25 20:38:07,325 : INFO : inferring topics with MALLET LDA 'D:/毕业设计/dependencies/mallet-2.0.8/bin/mallet infer-topics --input C:\\Users\\huiye\\AppData\\Local\\Temp\\34285_corpus.mallet.infer --inferencer C:\\Users\\huiye\\AppData\\Local\\Temp\\34285_inferencer.mallet --output-doc-topics C:\\Users\\huiye\\AppData\\Local\\Temp\\34285_doctopics.txt.infer --num-iterations 100 --doc-topics-threshold 0.0 --random-seed 0'\n"
     ]
    },
    {
     "data": {
      "text/html": [
       "<div>\n",
       "<style scoped>\n",
       "    .dataframe tbody tr th:only-of-type {\n",
       "        vertical-align: middle;\n",
       "    }\n",
       "\n",
       "    .dataframe tbody tr th {\n",
       "        vertical-align: top;\n",
       "    }\n",
       "\n",
       "    .dataframe thead th {\n",
       "        text-align: right;\n",
       "    }\n",
       "</style>\n",
       "<table border=\"1\" class=\"dataframe\">\n",
       "  <thead>\n",
       "    <tr style=\"text-align: right;\">\n",
       "      <th></th>\n",
       "      <th>Document_No</th>\n",
       "      <th>Dominant_Topic</th>\n",
       "      <th>Topic_Perc_Contrib</th>\n",
       "      <th>Keywords</th>\n",
       "      <th>Text</th>\n",
       "    </tr>\n",
       "  </thead>\n",
       "  <tbody>\n",
       "    <tr>\n",
       "      <th>0</th>\n",
       "      <td>0</td>\n",
       "      <td>6.0</td>\n",
       "      <td>0.0924</td>\n",
       "      <td>pro, iphone, model, ipad, inch, macbook, mac, ...</td>\n",
       "      <td>[recently, september, worked, apple, launch, a...</td>\n",
       "    </tr>\n",
       "    <tr>\n",
       "      <th>1</th>\n",
       "      <td>1</td>\n",
       "      <td>18.0</td>\n",
       "      <td>0.6442</td>\n",
       "      <td>including, sec, data, information, gov, practi...</td>\n",
       "      <td>[please, declare, traffic, updating, user, age...</td>\n",
       "    </tr>\n",
       "    <tr>\n",
       "      <th>2</th>\n",
       "      <td>2</td>\n",
       "      <td>9.0</td>\n",
       "      <td>0.3047</td>\n",
       "      <td>space, bezos, year, ceo, jeff, company, blue, ...</td>\n",
       "      <td>[shortly, launch, meme, began, trend, across, ...</td>\n",
       "    </tr>\n",
       "    <tr>\n",
       "      <th>3</th>\n",
       "      <td>3</td>\n",
       "      <td>17.0</td>\n",
       "      <td>0.4926</td>\n",
       "      <td>apple, app, store, apps, game, content, google...</td>\n",
       "      <td>[personal, connection, like, home, run, anti, ...</td>\n",
       "    </tr>\n",
       "    <tr>\n",
       "      <th>4</th>\n",
       "      <td>4</td>\n",
       "      <td>6.0</td>\n",
       "      <td>0.2011</td>\n",
       "      <td>pro, iphone, model, ipad, inch, macbook, mac, ...</td>\n",
       "      <td>[korean, publication, elec, claim, apple, thre...</td>\n",
       "    </tr>\n",
       "    <tr>\n",
       "      <th>5</th>\n",
       "      <td>5</td>\n",
       "      <td>1.0</td>\n",
       "      <td>0.1198</td>\n",
       "      <td>dec, ago, hour, est, pm, adobe, security, site...</td>\n",
       "      <td>[low, around, 25f, wind, mph, updated, decembe...</td>\n",
       "    </tr>\n",
       "    <tr>\n",
       "      <th>6</th>\n",
       "      <td>6</td>\n",
       "      <td>0.0</td>\n",
       "      <td>0.3404</td>\n",
       "      <td>december, week, tech, point, stock, high, time...</td>\n",
       "      <td>[opt, time, hate, spam, tradersville, net, inv...</td>\n",
       "    </tr>\n",
       "    <tr>\n",
       "      <th>7</th>\n",
       "      <td>7</td>\n",
       "      <td>7.0</td>\n",
       "      <td>0.1941</td>\n",
       "      <td>apple, iphone, year, company, cook, china, rep...</td>\n",
       "      <td>[wireless, charging, pad, apple, announced, ip...</td>\n",
       "    </tr>\n",
       "    <tr>\n",
       "      <th>8</th>\n",
       "      <td>8</td>\n",
       "      <td>20.0</td>\n",
       "      <td>0.2714</td>\n",
       "      <td>share, stock, year, billion, quarter, company,...</td>\n",
       "      <td>[hong, kong, china, american, multinational, t...</td>\n",
       "    </tr>\n",
       "    <tr>\n",
       "      <th>9</th>\n",
       "      <td>9</td>\n",
       "      <td>13.0</td>\n",
       "      <td>0.2534</td>\n",
       "      <td>company, tech, facebook, state, case, group, c...</td>\n",
       "      <td>[new, orleans, sept, globe, newswire, kahn, sw...</td>\n",
       "    </tr>\n",
       "  </tbody>\n",
       "</table>\n",
       "</div>"
      ],
      "text/plain": [
       "   Document_No  Dominant_Topic  Topic_Perc_Contrib  \\\n",
       "0            0             6.0              0.0924   \n",
       "1            1            18.0              0.6442   \n",
       "2            2             9.0              0.3047   \n",
       "3            3            17.0              0.4926   \n",
       "4            4             6.0              0.2011   \n",
       "5            5             1.0              0.1198   \n",
       "6            6             0.0              0.3404   \n",
       "7            7             7.0              0.1941   \n",
       "8            8            20.0              0.2714   \n",
       "9            9            13.0              0.2534   \n",
       "\n",
       "                                            Keywords  \\\n",
       "0  pro, iphone, model, ipad, inch, macbook, mac, ...   \n",
       "1  including, sec, data, information, gov, practi...   \n",
       "2  space, bezos, year, ceo, jeff, company, blue, ...   \n",
       "3  apple, app, store, apps, game, content, google...   \n",
       "4  pro, iphone, model, ipad, inch, macbook, mac, ...   \n",
       "5  dec, ago, hour, est, pm, adobe, security, site...   \n",
       "6  december, week, tech, point, stock, high, time...   \n",
       "7  apple, iphone, year, company, cook, china, rep...   \n",
       "8  share, stock, year, billion, quarter, company,...   \n",
       "9  company, tech, facebook, state, case, group, c...   \n",
       "\n",
       "                                                Text  \n",
       "0  [recently, september, worked, apple, launch, a...  \n",
       "1  [please, declare, traffic, updating, user, age...  \n",
       "2  [shortly, launch, meme, began, trend, across, ...  \n",
       "3  [personal, connection, like, home, run, anti, ...  \n",
       "4  [korean, publication, elec, claim, apple, thre...  \n",
       "5  [low, around, 25f, wind, mph, updated, decembe...  \n",
       "6  [opt, time, hate, spam, tradersville, net, inv...  \n",
       "7  [wireless, charging, pad, apple, announced, ip...  \n",
       "8  [hong, kong, china, american, multinational, t...  \n",
       "9  [new, orleans, sept, globe, newswire, kahn, sw...  "
      ]
     },
     "execution_count": 21,
     "metadata": {},
     "output_type": "execute_result"
    }
   ],
   "source": [
    "# 反过来打标签\n",
    "import pandas as pd\n",
    "def format_topics_sentences(ldamodel, corpus, texts):\n",
    "    # Init output \n",
    "    sent_topics_df = pd.DataFrame()\n",
    "    # Get main topic in each document\n",
    "    # ldamodel[doc] => get topic probability distribution for a document\n",
    "    for i, row in enumerate(ldamodel[corpus]):\n",
    "        row = sorted(row, key=lambda x: (x[1]), reverse=True) # 依据概率分布进行排序\n",
    "        # Get the Dominant topic, Perc Contribution and Keywords for each document\n",
    "        for j, (topic_num, prop_topic) in enumerate(row):\n",
    "            if j == 0:  # => dominant topic\n",
    "                wp = ldamodel.show_topic(topic_num) # probability pairs for the most relevant words generated by the topic.\n",
    "                topic_keywords = \", \".join([word for word, prop in wp])\n",
    "                sent_topics_df = sent_topics_df.append(pd.Series([int(topic_num), round(prop_topic,4), topic_keywords]), ignore_index=True)\n",
    "            else:\n",
    "                break\n",
    "    sent_topics_df.columns = ['Dominant_Topic', 'Perc_Contribution', 'Topic_Keywords']\n",
    "\n",
    "    # Add original text to the end of the output\n",
    "    contents = pd.Series(texts)\n",
    "    sent_topics_df = pd.concat([sent_topics_df, contents], axis=1)\n",
    "    return(sent_topics_df)\n",
    "\n",
    "optimal_model = model_list[9]\n",
    "df_topic_sents_keywords = format_topics_sentences(ldamodel=optimal_model, corpus=corpus, texts=docs)\n",
    "\n",
    "# Format\n",
    "df_dominant_topic = df_topic_sents_keywords.reset_index()\n",
    "df_dominant_topic.columns = ['Document_No', 'Dominant_Topic', 'Topic_Perc_Contrib', 'Keywords', 'Text']\n",
    "\n",
    "# Show\n",
    "df_dominant_topic.head(10)\n"
   ]
  },
  {
   "cell_type": "code",
   "execution_count": 1,
   "id": "69788986",
   "metadata": {},
   "outputs": [
    {
     "ename": "NameError",
     "evalue": "name 'pd' is not defined",
     "output_type": "error",
     "traceback": [
      "\u001b[1;31m---------------------------------------------------------------------------\u001b[0m",
      "\u001b[1;31mNameError\u001b[0m                                 Traceback (most recent call last)",
      "\u001b[1;32m~\\AppData\\Local\\Temp/ipykernel_19584/1466355924.py\u001b[0m in \u001b[0;36m<module>\u001b[1;34m\u001b[0m\n\u001b[1;32m----> 1\u001b[1;33m \u001b[0msent_topics_sorteddf_mallet\u001b[0m \u001b[1;33m=\u001b[0m \u001b[0mpd\u001b[0m\u001b[1;33m.\u001b[0m\u001b[0mDataFrame\u001b[0m\u001b[1;33m(\u001b[0m\u001b[1;33m)\u001b[0m\u001b[1;33m\u001b[0m\u001b[1;33m\u001b[0m\u001b[0m\n\u001b[0m\u001b[0;32m      2\u001b[0m \u001b[1;33m\u001b[0m\u001b[0m\n\u001b[0;32m      3\u001b[0m \u001b[0msent_topics_outdf_grpd\u001b[0m \u001b[1;33m=\u001b[0m \u001b[0mdf_topic_sents_keywords\u001b[0m\u001b[1;33m.\u001b[0m\u001b[0mgroupby\u001b[0m\u001b[1;33m(\u001b[0m\u001b[1;34m'Dominant_Topic'\u001b[0m\u001b[1;33m)\u001b[0m\u001b[1;33m\u001b[0m\u001b[1;33m\u001b[0m\u001b[0m\n\u001b[0;32m      4\u001b[0m \u001b[1;33m\u001b[0m\u001b[0m\n\u001b[0;32m      5\u001b[0m \u001b[1;32mfor\u001b[0m \u001b[0mi\u001b[0m\u001b[1;33m,\u001b[0m \u001b[0mgrp\u001b[0m \u001b[1;32min\u001b[0m \u001b[0msent_topics_outdf_grpd\u001b[0m\u001b[1;33m:\u001b[0m\u001b[1;33m\u001b[0m\u001b[1;33m\u001b[0m\u001b[0m\n",
      "\u001b[1;31mNameError\u001b[0m: name 'pd' is not defined"
     ]
    }
   ],
   "source": [
    "sent_topics_sorteddf_mallet = pd.DataFrame()\n",
    "\n",
    "sent_topics_outdf_grpd = df_topic_sents_keywords.groupby('Dominant_Topic')\n",
    "\n",
    "for i, grp in sent_topics_outdf_grpd:\n",
    "    sent_topics_sorteddf_mallet = pd.concat([sent_topics_sorteddf_mallet, \n",
    "                                             grp.sort_values(['Perc_Contribution'], ascending=[0]).head(1)], \n",
    "                                            axis=0)\n",
    "\n",
    "# Reset Index    \n",
    "sent_topics_sorteddf_mallet.reset_index(drop=True, inplace=True)\n",
    "\n",
    "# Format\n",
    "sent_topics_sorteddf_mallet.columns = ['Topic_Num', \"Topic_Perc_Contrib\", \"Keywords\", \"Text\"]\n",
    "\n",
    "# Show\n",
    "sent_topics_sorteddf_mallet\n"
   ]
  },
  {
   "cell_type": "code",
   "execution_count": null,
   "id": "c0179975",
   "metadata": {},
   "outputs": [],
   "source": []
  }
 ],
 "metadata": {
  "kernelspec": {
   "display_name": "Python [conda env:root] *",
   "language": "python",
   "name": "conda-root-py"
  },
  "language_info": {
   "codemirror_mode": {
    "name": "ipython",
    "version": 3
   },
   "file_extension": ".py",
   "mimetype": "text/x-python",
   "name": "python",
   "nbconvert_exporter": "python",
   "pygments_lexer": "ipython3",
   "version": "3.7.11"
  }
 },
 "nbformat": 4,
 "nbformat_minor": 5
}
